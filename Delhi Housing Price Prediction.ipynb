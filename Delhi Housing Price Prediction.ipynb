{
 "cells": [
  {
   "cell_type": "code",
   "execution_count": 238,
   "id": "a8a9c91e",
   "metadata": {},
   "outputs": [],
   "source": [
    "import pandas as pd\n",
    "import numpy as np\n",
    "\n",
    "import matplotlib\n",
    "import matplotlib.pyplot as plt\n",
    "%matplotlib inline"
   ]
  },
  {
   "cell_type": "code",
   "execution_count": 239,
   "id": "bc2b2d1d",
   "metadata": {},
   "outputs": [],
   "source": [
    "df = pd.read_csv(\"Desktop\\DS\\Delhi housing price prediction(End to End)\\\\MagicBricks.csv\")"
   ]
  },
  {
   "cell_type": "code",
   "execution_count": 240,
   "id": "87e36f5e",
   "metadata": {},
   "outputs": [
    {
     "data": {
      "text/html": [
       "<div>\n",
       "<style scoped>\n",
       "    .dataframe tbody tr th:only-of-type {\n",
       "        vertical-align: middle;\n",
       "    }\n",
       "\n",
       "    .dataframe tbody tr th {\n",
       "        vertical-align: top;\n",
       "    }\n",
       "\n",
       "    .dataframe thead th {\n",
       "        text-align: right;\n",
       "    }\n",
       "</style>\n",
       "<table border=\"1\" class=\"dataframe\">\n",
       "  <thead>\n",
       "    <tr style=\"text-align: right;\">\n",
       "      <th></th>\n",
       "      <th>Area</th>\n",
       "      <th>BHK</th>\n",
       "      <th>Bathroom</th>\n",
       "      <th>Furnishing</th>\n",
       "      <th>Locality</th>\n",
       "      <th>Parking</th>\n",
       "      <th>Price</th>\n",
       "      <th>Status</th>\n",
       "      <th>Transaction</th>\n",
       "      <th>Type</th>\n",
       "      <th>Per_Sqft</th>\n",
       "    </tr>\n",
       "  </thead>\n",
       "  <tbody>\n",
       "    <tr>\n",
       "      <th>0</th>\n",
       "      <td>800.0</td>\n",
       "      <td>3</td>\n",
       "      <td>2.0</td>\n",
       "      <td>Semi-Furnished</td>\n",
       "      <td>Rohini Sector 25</td>\n",
       "      <td>1.0</td>\n",
       "      <td>6500000</td>\n",
       "      <td>Ready_to_move</td>\n",
       "      <td>New_Property</td>\n",
       "      <td>Builder_Floor</td>\n",
       "      <td>NaN</td>\n",
       "    </tr>\n",
       "    <tr>\n",
       "      <th>1</th>\n",
       "      <td>750.0</td>\n",
       "      <td>2</td>\n",
       "      <td>2.0</td>\n",
       "      <td>Semi-Furnished</td>\n",
       "      <td>J R Designers Floors, Rohini Sector 24</td>\n",
       "      <td>1.0</td>\n",
       "      <td>5000000</td>\n",
       "      <td>Ready_to_move</td>\n",
       "      <td>New_Property</td>\n",
       "      <td>Apartment</td>\n",
       "      <td>6667.0</td>\n",
       "    </tr>\n",
       "    <tr>\n",
       "      <th>2</th>\n",
       "      <td>950.0</td>\n",
       "      <td>2</td>\n",
       "      <td>2.0</td>\n",
       "      <td>Furnished</td>\n",
       "      <td>Citizen Apartment, Rohini Sector 13</td>\n",
       "      <td>1.0</td>\n",
       "      <td>15500000</td>\n",
       "      <td>Ready_to_move</td>\n",
       "      <td>Resale</td>\n",
       "      <td>Apartment</td>\n",
       "      <td>6667.0</td>\n",
       "    </tr>\n",
       "    <tr>\n",
       "      <th>3</th>\n",
       "      <td>600.0</td>\n",
       "      <td>2</td>\n",
       "      <td>2.0</td>\n",
       "      <td>Semi-Furnished</td>\n",
       "      <td>Rohini Sector 24</td>\n",
       "      <td>1.0</td>\n",
       "      <td>4200000</td>\n",
       "      <td>Ready_to_move</td>\n",
       "      <td>Resale</td>\n",
       "      <td>Builder_Floor</td>\n",
       "      <td>6667.0</td>\n",
       "    </tr>\n",
       "    <tr>\n",
       "      <th>4</th>\n",
       "      <td>650.0</td>\n",
       "      <td>2</td>\n",
       "      <td>2.0</td>\n",
       "      <td>Semi-Furnished</td>\n",
       "      <td>Rohini Sector 24 carpet area 650 sqft status Ready to Move floor 4 out of 4 floors transaction New Property furnishing Semi-Furnished facing East overlooking Garden/Park, Main Road car parking 1 Open bathroom 2 balcony 1 ownership Freehold Newly Constructed Property Newly Constructed Property East Facing Property 2BHK Newly build property for Sale. A House is waiting for a Friendly Family to make it a lovely home.So please come and make his house feel alive once again. read more Contact Agent View Phone No. Share Feedback Garima properties Certified Agent Trusted by Users Genuine Listings Market Knowledge</td>\n",
       "      <td>1.0</td>\n",
       "      <td>6200000</td>\n",
       "      <td>Ready_to_move</td>\n",
       "      <td>New_Property</td>\n",
       "      <td>Builder_Floor</td>\n",
       "      <td>6667.0</td>\n",
       "    </tr>\n",
       "  </tbody>\n",
       "</table>\n",
       "</div>"
      ],
      "text/plain": [
       "    Area  BHK  Bathroom      Furnishing  \\\n",
       "0  800.0  3    2.0       Semi-Furnished   \n",
       "1  750.0  2    2.0       Semi-Furnished   \n",
       "2  950.0  2    2.0       Furnished        \n",
       "3  600.0  2    2.0       Semi-Furnished   \n",
       "4  650.0  2    2.0       Semi-Furnished   \n",
       "\n",
       "                                                                                                                                                                                                                                                                                                                                                                                                                                                                                                                                                                                                                               Locality  \\\n",
       "0  Rohini Sector 25                                                                                                                                                                                                                                                                                                                                                                                                                                                                                                                                                                                                                       \n",
       "1  J R Designers Floors, Rohini Sector 24                                                                                                                                                                                                                                                                                                                                                                                                                                                                                                                                                                                                 \n",
       "2  Citizen Apartment, Rohini Sector 13                                                                                                                                                                                                                                                                                                                                                                                                                                                                                                                                                                                                    \n",
       "3  Rohini Sector 24                                                                                                                                                                                                                                                                                                                                                                                                                                                                                                                                                                                                                       \n",
       "4  Rohini Sector 24 carpet area 650 sqft status Ready to Move floor 4 out of 4 floors transaction New Property furnishing Semi-Furnished facing East overlooking Garden/Park, Main Road car parking 1 Open bathroom 2 balcony 1 ownership Freehold Newly Constructed Property Newly Constructed Property East Facing Property 2BHK Newly build property for Sale. A House is waiting for a Friendly Family to make it a lovely home.So please come and make his house feel alive once again. read more Contact Agent View Phone No. Share Feedback Garima properties Certified Agent Trusted by Users Genuine Listings Market Knowledge   \n",
       "\n",
       "   Parking     Price         Status   Transaction           Type  Per_Sqft  \n",
       "0  1.0      6500000   Ready_to_move  New_Property  Builder_Floor NaN        \n",
       "1  1.0      5000000   Ready_to_move  New_Property  Apartment      6667.0    \n",
       "2  1.0      15500000  Ready_to_move  Resale        Apartment      6667.0    \n",
       "3  1.0      4200000   Ready_to_move  Resale        Builder_Floor  6667.0    \n",
       "4  1.0      6200000   Ready_to_move  New_Property  Builder_Floor  6667.0    "
      ]
     },
     "execution_count": 240,
     "metadata": {},
     "output_type": "execute_result"
    }
   ],
   "source": [
    "df.head()"
   ]
  },
  {
   "cell_type": "code",
   "execution_count": 241,
   "id": "01eeeeab",
   "metadata": {},
   "outputs": [
    {
     "data": {
      "text/plain": [
       "241"
      ]
     },
     "execution_count": 241,
     "metadata": {},
     "output_type": "execute_result"
    }
   ],
   "source": [
    "df.Per_Sqft.isnull().sum()"
   ]
  },
  {
   "cell_type": "code",
   "execution_count": 242,
   "id": "57e959bf",
   "metadata": {},
   "outputs": [],
   "source": [
    "df.Per_Sqft = round(df.Per_Sqft.fillna(df.Price/df.Area),2)"
   ]
  },
  {
   "cell_type": "code",
   "execution_count": 243,
   "id": "e822de62",
   "metadata": {},
   "outputs": [
    {
     "data": {
      "text/plain": [
       "(1259, 11)"
      ]
     },
     "execution_count": 243,
     "metadata": {},
     "output_type": "execute_result"
    }
   ],
   "source": [
    "df.shape"
   ]
  },
  {
   "cell_type": "code",
   "execution_count": 244,
   "id": "60d35457",
   "metadata": {
    "scrolled": true
   },
   "outputs": [
    {
     "data": {
      "text/plain": [
       "array([  8125.  ,   6667.  ,   6154.  ,   6364.  ,   8750.  ,   9722.  ,\n",
       "         9000.  ,  18750.  ,  11666.67,  20833.33,  18133.33,  20689.66,\n",
       "        15000.  ,  11000.  ,  18518.52,  15204.68,  18181.82,   9765.62,\n",
       "        16666.67,   6902.65,  19166.67,  13529.41,  17333.33,  14444.  ,\n",
       "        22000.  ,   6133.33,   2235.  ,   3800.  ,   4247.  ,   3524.  ,\n",
       "         9888.89,  25862.07,  19658.12,  17543.86,  21000.  ,  13636.36,\n",
       "        30740.74,  14502.92,  25925.93,  26666.  ,  15972.  , 183333.  ,\n",
       "        20000.  ,  15556.  ,  16176.  ,  17500.  ,   9259.  ,  18507.  ,\n",
       "         7000.  ,  12222.22,   5555.56,  72000.  ,  43000.  ,   4444.  ,\n",
       "         3300.  ,  40000.  ,   5185.  ,   4000.  ,   3567.  ,   1259.  ,\n",
       "         2500.  ,   5255.  ,   6571.43,   6528.  ,   6875.  ,   5714.  ,\n",
       "         7449.  ,   7931.  ,   5789.  ,   6471.  ,   8438.  ,   6508.  ,\n",
       "         8000.  ,   6000.  ,   6250.  ,   6333.  ,   6714.  ,  28797.  ,\n",
       "        23840.  ,   4600.  ,   4620.  ,   5000.  ,   6111.  ,  25512.  ,\n",
       "        22222.  ,  24718.  ,  30556.  ,  12820.51, 120000.  ,  15459.  ,\n",
       "        23529.  ,  16667.  ,  23222.58,  28301.89,  21590.91,  11111.  ,\n",
       "        21409.  ,  95000.  ,  15363.  ,  19259.  ,  20833.  ,  20930.  ,\n",
       "        12266.67,   7037.04,   6701.03,   5650.  ,   6526.  ,   3901.  ,\n",
       "         6347.  ,  41304.  ,   7407.41,   8533.33,   8701.  ,   5556.  ,\n",
       "        85715.  ,   6944.  ,   7222.  ,  11220.  ,   5357.  ,   6706.  ,\n",
       "        10288.  ,  28283.  ,   8923.  ,   8222.  ,  14550.  ,  30093.  ,\n",
       "        35714.  ,  22857.  ,  12500.  ,   7490.64,   6500.  ,   4040.  ,\n",
       "         7778.  ,  32000.  ,   5666.  ,  11667.  , 112179.  ,   4907.41,\n",
       "         6584.  ,   5794.  ,   7500.  , 160000.  ,  11556.  ,   8421.  ,\n",
       "        27778.  ,  11722.  ,  85714.  ,  13333.  ,   8418.  ,   1667.  ,\n",
       "         8333.  ,  24242.  ,  18250.  ,  17857.14,  11562.5 ,  14687.5 ,\n",
       "        13333.33,  14375.  ,  15500.  ,  10681.  ,  21818.  ,  14358.  ,\n",
       "        58000.  ,  18519.  ,   7143.  ,  19444.  ,  21071.  ,  14074.  ,\n",
       "        28846.  ,  14705.  ,  18000.  ,  17647.  ,  18055.  ,  25000.  ,\n",
       "        14818.  ,  23863.  ,  16049.38,  14378.48,  12865.5 ,  18260.87,\n",
       "        11111.11,  12101.21,  14722.  ,  13889.  ,   7875.  ,  10943.  ,\n",
       "         9750.  ,   9393.94,   9500.  ,  13157.89,  10714.29,  10193.55,\n",
       "        15750.  ,   9333.33,   8516.13,   9875.  ,  10125.  ,   8611.11,\n",
       "         9863.95,   9933.33,   9828.57,  10909.09,   8378.38,  10675.68,\n",
       "        10378.91,  10869.57,  12187.5 ,  10473.19,  10117.65,  10833.33,\n",
       "         9166.67,  10700.  ,  20492.  ,  20558.  ,  17000.  ,  21052.  ,\n",
       "        16333.  ,  18793.  ,  19811.  ,  20270.  ,  17619.  ,  17197.  ,\n",
       "        16654.  ,  19280.  ,  17176.  ,  20581.  ,  20999.  ,  21311.  ,\n",
       "        18900.  ,  20588.  ,  20967.  ,  18344.  ,  17906.  ,  23571.43,\n",
       "        14081.63,  15555.56,  15483.85,  16000.  ,  18571.43,  19500.  ,\n",
       "        11944.44,  17666.67,  11538.  ,  14166.67,   9687.5 ,  12800.  ,\n",
       "        13578.95,  11250.  ,  12714.29,  13894.74,  10370.37,  11290.32,\n",
       "        13076.92,  13000.  ,  11333.33,  13368.42,  12428.57,  11866.67,\n",
       "        12095.24,  10451.61,  11684.21,  11826.09,  11391.3 ,   9066.67,\n",
       "        15384.  ,  10000.  ,   5478.26,   5500.  ,   5222.  ,   3714.  ,\n",
       "         5455.  ,   4837.  ,   3444.  ,   4167.  ,   7463.16,   1250.  ,\n",
       "         4214.56,  35000.  ,   7357.89,   6944.44,   3750.  ,   4148.15,\n",
       "         4255.32,   4444.44,   3846.15,   4722.22,   4138.  ,   4230.77,\n",
       "         3703.7 ,   3259.  ,   3294.  ,   8060.  ,   4678.  ,   3148.  ,\n",
       "         4200.  ,   3778.  ,   2963.  ,   3667.  ,   7727.  ,   5333.  ,\n",
       "         7272.73,   6818.18,   5909.09,   6641.37,   6200.  ,   6315.79,\n",
       "         5614.04,   4922.  ,   6556.  ,   5820.  ,  42222.  ,  43137.  ,\n",
       "         3968.25,   4889.  ,   4222.  ,   5092.  ,   5128.  ,   3600.  ,\n",
       "         4571.  ,   4221.  ,   6636.  ,   4270.  ,   5143.  ,   3248.  ,\n",
       "         5051.  ,   5176.  ,  24285.71,  24833.33,  27272.73,  30487.8 ,\n",
       "        14888.  ,   7200.  ,  21429.  ,   7333.33,   9800.  ,   8333.33,\n",
       "         7666.  ,   9200.  ,   8640.  ,   6486.  ,  12000.  ,   9375.  ,\n",
       "         5200.  ,   6700.  ,  10625.  ,   8888.89,   8571.43,   8846.15,\n",
       "         7777.78,   7857.14,  12307.69,   9090.91,   8526.32,   7076.92,\n",
       "         9732.69,   8636.36,   9655.  ,  16466.  ,  30000.  ,  16917.  ,\n",
       "        19841.  ,  10320.  ,   2778.  ,  14366.  ,  14776.  ,  14382.  ,\n",
       "        14092.  ,  14815.  ,  16584.  , 125984.  ,   8761.  ,   7290.  ,\n",
       "        13324.  ,  14516.13,  16655.56,  13703.7 ,  20217.39,  12246.33,\n",
       "        17489.71,  10689.66,  14285.  ,  12151.  ,   8889.  ,  15178.  ,\n",
       "         5806.  ,  10838.  ,  13125.  ,  14062.5 ,  15200.  ,   9259.26,\n",
       "         6837.61,   4705.88,  10556.  ,  12307.  ,  15882.  ,  65714.  ,\n",
       "        11363.  ,  13571.  ,  11923.  ,  12272.  ,  22222.22,  16396.6 ,\n",
       "        25277.78,   7317.07,  13608.  ,  11905.  ,   9909.  ,   7800.  ,\n",
       "        15278.  ,   6600.  ,   5428.57,  13095.24,   8421.05,  13827.16,\n",
       "        16153.85,   8600.  ,   6527.78,  20202.02,  16250.  ,  15416.67,\n",
       "         7222.22,  18849.21,  26470.59,  24166.  , 170000.  ,  17677.  ,\n",
       "        37037.  ,  13829.28,  20400.  ,  20938.  ,  18333.  ,   6878.  ,\n",
       "        12916.  ])"
      ]
     },
     "execution_count": 244,
     "metadata": {},
     "output_type": "execute_result"
    }
   ],
   "source": [
    "df.Per_Sqft.unique()"
   ]
  },
  {
   "cell_type": "code",
   "execution_count": 245,
   "id": "d8fa8306",
   "metadata": {},
   "outputs": [
    {
     "data": {
      "text/plain": [
       "0"
      ]
     },
     "execution_count": 245,
     "metadata": {},
     "output_type": "execute_result"
    }
   ],
   "source": [
    "df.Per_Sqft.isnull().sum()"
   ]
  },
  {
   "cell_type": "code",
   "execution_count": 246,
   "id": "1f5b2b65",
   "metadata": {
    "scrolled": false
   },
   "outputs": [
    {
     "data": {
      "text/html": [
       "<div>\n",
       "<style scoped>\n",
       "    .dataframe tbody tr th:only-of-type {\n",
       "        vertical-align: middle;\n",
       "    }\n",
       "\n",
       "    .dataframe tbody tr th {\n",
       "        vertical-align: top;\n",
       "    }\n",
       "\n",
       "    .dataframe thead th {\n",
       "        text-align: right;\n",
       "    }\n",
       "</style>\n",
       "<table border=\"1\" class=\"dataframe\">\n",
       "  <thead>\n",
       "    <tr style=\"text-align: right;\">\n",
       "      <th></th>\n",
       "      <th>Area</th>\n",
       "      <th>BHK</th>\n",
       "      <th>Bathroom</th>\n",
       "      <th>Furnishing</th>\n",
       "      <th>Locality</th>\n",
       "      <th>Parking</th>\n",
       "      <th>Price</th>\n",
       "      <th>Status</th>\n",
       "      <th>Transaction</th>\n",
       "      <th>Type</th>\n",
       "      <th>Per_Sqft</th>\n",
       "    </tr>\n",
       "  </thead>\n",
       "  <tbody>\n",
       "    <tr>\n",
       "      <th>0</th>\n",
       "      <td>800.0</td>\n",
       "      <td>3</td>\n",
       "      <td>2.0</td>\n",
       "      <td>Semi-Furnished</td>\n",
       "      <td>Rohini Sector 25</td>\n",
       "      <td>1.0</td>\n",
       "      <td>6500000</td>\n",
       "      <td>Ready_to_move</td>\n",
       "      <td>New_Property</td>\n",
       "      <td>Builder_Floor</td>\n",
       "      <td>8125.0</td>\n",
       "    </tr>\n",
       "    <tr>\n",
       "      <th>1</th>\n",
       "      <td>750.0</td>\n",
       "      <td>2</td>\n",
       "      <td>2.0</td>\n",
       "      <td>Semi-Furnished</td>\n",
       "      <td>J R Designers Floors, Rohini Sector 24</td>\n",
       "      <td>1.0</td>\n",
       "      <td>5000000</td>\n",
       "      <td>Ready_to_move</td>\n",
       "      <td>New_Property</td>\n",
       "      <td>Apartment</td>\n",
       "      <td>6667.0</td>\n",
       "    </tr>\n",
       "    <tr>\n",
       "      <th>2</th>\n",
       "      <td>950.0</td>\n",
       "      <td>2</td>\n",
       "      <td>2.0</td>\n",
       "      <td>Furnished</td>\n",
       "      <td>Citizen Apartment, Rohini Sector 13</td>\n",
       "      <td>1.0</td>\n",
       "      <td>15500000</td>\n",
       "      <td>Ready_to_move</td>\n",
       "      <td>Resale</td>\n",
       "      <td>Apartment</td>\n",
       "      <td>6667.0</td>\n",
       "    </tr>\n",
       "    <tr>\n",
       "      <th>3</th>\n",
       "      <td>600.0</td>\n",
       "      <td>2</td>\n",
       "      <td>2.0</td>\n",
       "      <td>Semi-Furnished</td>\n",
       "      <td>Rohini Sector 24</td>\n",
       "      <td>1.0</td>\n",
       "      <td>4200000</td>\n",
       "      <td>Ready_to_move</td>\n",
       "      <td>Resale</td>\n",
       "      <td>Builder_Floor</td>\n",
       "      <td>6667.0</td>\n",
       "    </tr>\n",
       "    <tr>\n",
       "      <th>4</th>\n",
       "      <td>650.0</td>\n",
       "      <td>2</td>\n",
       "      <td>2.0</td>\n",
       "      <td>Semi-Furnished</td>\n",
       "      <td>Rohini Sector 24 carpet area 650 sqft status Ready to Move floor 4 out of 4 floors transaction New Property furnishing Semi-Furnished facing East overlooking Garden/Park, Main Road car parking 1 Open bathroom 2 balcony 1 ownership Freehold Newly Constructed Property Newly Constructed Property East Facing Property 2BHK Newly build property for Sale. A House is waiting for a Friendly Family to make it a lovely home.So please come and make his house feel alive once again. read more Contact Agent View Phone No. Share Feedback Garima properties Certified Agent Trusted by Users Genuine Listings Market Knowledge</td>\n",
       "      <td>1.0</td>\n",
       "      <td>6200000</td>\n",
       "      <td>Ready_to_move</td>\n",
       "      <td>New_Property</td>\n",
       "      <td>Builder_Floor</td>\n",
       "      <td>6667.0</td>\n",
       "    </tr>\n",
       "  </tbody>\n",
       "</table>\n",
       "</div>"
      ],
      "text/plain": [
       "    Area  BHK  Bathroom      Furnishing  \\\n",
       "0  800.0  3    2.0       Semi-Furnished   \n",
       "1  750.0  2    2.0       Semi-Furnished   \n",
       "2  950.0  2    2.0       Furnished        \n",
       "3  600.0  2    2.0       Semi-Furnished   \n",
       "4  650.0  2    2.0       Semi-Furnished   \n",
       "\n",
       "                                                                                                                                                                                                                                                                                                                                                                                                                                                                                                                                                                                                                               Locality  \\\n",
       "0  Rohini Sector 25                                                                                                                                                                                                                                                                                                                                                                                                                                                                                                                                                                                                                       \n",
       "1  J R Designers Floors, Rohini Sector 24                                                                                                                                                                                                                                                                                                                                                                                                                                                                                                                                                                                                 \n",
       "2  Citizen Apartment, Rohini Sector 13                                                                                                                                                                                                                                                                                                                                                                                                                                                                                                                                                                                                    \n",
       "3  Rohini Sector 24                                                                                                                                                                                                                                                                                                                                                                                                                                                                                                                                                                                                                       \n",
       "4  Rohini Sector 24 carpet area 650 sqft status Ready to Move floor 4 out of 4 floors transaction New Property furnishing Semi-Furnished facing East overlooking Garden/Park, Main Road car parking 1 Open bathroom 2 balcony 1 ownership Freehold Newly Constructed Property Newly Constructed Property East Facing Property 2BHK Newly build property for Sale. A House is waiting for a Friendly Family to make it a lovely home.So please come and make his house feel alive once again. read more Contact Agent View Phone No. Share Feedback Garima properties Certified Agent Trusted by Users Genuine Listings Market Knowledge   \n",
       "\n",
       "   Parking     Price         Status   Transaction           Type  Per_Sqft  \n",
       "0  1.0      6500000   Ready_to_move  New_Property  Builder_Floor  8125.0    \n",
       "1  1.0      5000000   Ready_to_move  New_Property  Apartment      6667.0    \n",
       "2  1.0      15500000  Ready_to_move  Resale        Apartment      6667.0    \n",
       "3  1.0      4200000   Ready_to_move  Resale        Builder_Floor  6667.0    \n",
       "4  1.0      6200000   Ready_to_move  New_Property  Builder_Floor  6667.0    "
      ]
     },
     "execution_count": 246,
     "metadata": {},
     "output_type": "execute_result"
    }
   ],
   "source": [
    "df.head()"
   ]
  },
  {
   "cell_type": "code",
   "execution_count": 247,
   "id": "df261605",
   "metadata": {},
   "outputs": [
    {
     "data": {
      "text/plain": [
       "Semi-Furnished    708\n",
       "Unfurnished       363\n",
       "Furnished         183\n",
       "Name: Furnishing, dtype: int64"
      ]
     },
     "execution_count": 247,
     "metadata": {},
     "output_type": "execute_result"
    }
   ],
   "source": [
    "df.Furnishing.value_counts()"
   ]
  },
  {
   "cell_type": "code",
   "execution_count": 248,
   "id": "12256096",
   "metadata": {
    "scrolled": true
   },
   "outputs": [
    {
     "data": {
      "text/plain": [
       "array(['Semi-Furnished', 'Furnished', 'Unfurnished', nan], dtype=object)"
      ]
     },
     "execution_count": 248,
     "metadata": {},
     "output_type": "execute_result"
    }
   ],
   "source": [
    "df.Furnishing.unique()"
   ]
  },
  {
   "cell_type": "code",
   "execution_count": 249,
   "id": "fd6919aa",
   "metadata": {},
   "outputs": [
    {
     "data": {
      "text/plain": [
       "5"
      ]
     },
     "execution_count": 249,
     "metadata": {},
     "output_type": "execute_result"
    }
   ],
   "source": [
    "df.Furnishing.isnull().sum()"
   ]
  },
  {
   "cell_type": "code",
   "execution_count": 250,
   "id": "1e53f56d",
   "metadata": {},
   "outputs": [],
   "source": [
    "df.dropna(subset = ['Furnishing'], inplace=True)"
   ]
  },
  {
   "cell_type": "code",
   "execution_count": 251,
   "id": "8476255e",
   "metadata": {},
   "outputs": [
    {
     "data": {
      "text/plain": [
       "0"
      ]
     },
     "execution_count": 251,
     "metadata": {},
     "output_type": "execute_result"
    }
   ],
   "source": [
    "df.Furnishing.isnull().sum()"
   ]
  },
  {
   "cell_type": "code",
   "execution_count": 252,
   "id": "798d0f60",
   "metadata": {},
   "outputs": [
    {
     "data": {
      "text/plain": [
       "(1254, 11)"
      ]
     },
     "execution_count": 252,
     "metadata": {},
     "output_type": "execute_result"
    }
   ],
   "source": [
    "df.shape"
   ]
  },
  {
   "cell_type": "code",
   "execution_count": 253,
   "id": "996fa239",
   "metadata": {},
   "outputs": [
    {
     "data": {
      "text/plain": [
       "array(['Semi-Furnished', 'Furnished', 'Unfurnished'], dtype=object)"
      ]
     },
     "execution_count": 253,
     "metadata": {},
     "output_type": "execute_result"
    }
   ],
   "source": [
    "df.Furnishing.unique()"
   ]
  },
  {
   "cell_type": "markdown",
   "id": "fc8ab242",
   "metadata": {},
   "source": [
    "# Furnishing types\n",
    "- 'Semi-Furnished':1,\n",
    "- 'Furnished':2,\n",
    "- 'Unfurnished':3"
   ]
  },
  {
   "cell_type": "code",
   "execution_count": 254,
   "id": "9baf7749",
   "metadata": {},
   "outputs": [
    {
     "data": {
      "text/plain": [
       "array([1, 2, 3], dtype=int64)"
      ]
     },
     "execution_count": 254,
     "metadata": {},
     "output_type": "execute_result"
    }
   ],
   "source": [
    "df.Furnishing.replace({\n",
    "    'Semi-Furnished':1,\n",
    "    'Furnished':2,\n",
    "    'Unfurnished':3\n",
    "},inplace = True)\n",
    "df.Furnishing.unique()"
   ]
  },
  {
   "cell_type": "code",
   "execution_count": 255,
   "id": "abb6b793",
   "metadata": {},
   "outputs": [
    {
     "data": {
      "text/plain": [
       "0"
      ]
     },
     "execution_count": 255,
     "metadata": {},
     "output_type": "execute_result"
    }
   ],
   "source": [
    "df.Status.isnull().sum()"
   ]
  },
  {
   "cell_type": "code",
   "execution_count": 256,
   "id": "2eaf87e4",
   "metadata": {},
   "outputs": [
    {
     "data": {
      "text/plain": [
       "array(['Ready_to_move', 'Almost_ready'], dtype=object)"
      ]
     },
     "execution_count": 256,
     "metadata": {},
     "output_type": "execute_result"
    }
   ],
   "source": [
    "df.Status.unique()"
   ]
  },
  {
   "cell_type": "markdown",
   "id": "469e3389",
   "metadata": {},
   "source": [
    "# Status types\n",
    "- ''Ready_to_move':1,\n",
    "- 'Almost_ready':2"
   ]
  },
  {
   "cell_type": "code",
   "execution_count": 257,
   "id": "b1b34bc7",
   "metadata": {},
   "outputs": [
    {
     "data": {
      "text/plain": [
       "array([1, 2], dtype=int64)"
      ]
     },
     "execution_count": 257,
     "metadata": {},
     "output_type": "execute_result"
    }
   ],
   "source": [
    "df.Status.replace({\n",
    "    'Ready_to_move':1,\n",
    "    'Almost_ready':2\n",
    "},inplace = True)\n",
    "df.Status.unique()"
   ]
  },
  {
   "cell_type": "code",
   "execution_count": 258,
   "id": "44649a41",
   "metadata": {},
   "outputs": [
    {
     "data": {
      "text/plain": [
       "0"
      ]
     },
     "execution_count": 258,
     "metadata": {},
     "output_type": "execute_result"
    }
   ],
   "source": [
    "df.Transaction.isnull().sum()"
   ]
  },
  {
   "cell_type": "code",
   "execution_count": 259,
   "id": "5825b1d4",
   "metadata": {},
   "outputs": [
    {
     "data": {
      "text/plain": [
       "array(['New_Property', 'Resale'], dtype=object)"
      ]
     },
     "execution_count": 259,
     "metadata": {},
     "output_type": "execute_result"
    }
   ],
   "source": [
    "df.Transaction.unique()"
   ]
  },
  {
   "cell_type": "markdown",
   "id": "34693f9f",
   "metadata": {},
   "source": [
    "# Transaction Types\n",
    "- 'New_Property':1\n",
    "- 'Resale':2"
   ]
  },
  {
   "cell_type": "code",
   "execution_count": 260,
   "id": "674847bc",
   "metadata": {},
   "outputs": [
    {
     "data": {
      "text/plain": [
       "array([1, 2], dtype=int64)"
      ]
     },
     "execution_count": 260,
     "metadata": {},
     "output_type": "execute_result"
    }
   ],
   "source": [
    "df.Transaction.replace({\n",
    "    'New_Property':1,\n",
    "    'Resale':2\n",
    "},inplace = True)\n",
    "df.Transaction.unique()"
   ]
  },
  {
   "cell_type": "code",
   "execution_count": 261,
   "id": "e6d7224d",
   "metadata": {},
   "outputs": [
    {
     "data": {
      "text/plain": [
       "0"
      ]
     },
     "execution_count": 261,
     "metadata": {},
     "output_type": "execute_result"
    }
   ],
   "source": [
    "df.Type.isnull().sum()"
   ]
  },
  {
   "cell_type": "code",
   "execution_count": 262,
   "id": "c92a8acf",
   "metadata": {},
   "outputs": [
    {
     "data": {
      "text/plain": [
       "array(['Builder_Floor', 'Apartment'], dtype=object)"
      ]
     },
     "execution_count": 262,
     "metadata": {},
     "output_type": "execute_result"
    }
   ],
   "source": [
    "df.Type.unique()"
   ]
  },
  {
   "cell_type": "markdown",
   "id": "f8dc6f6a",
   "metadata": {},
   "source": [
    "# Floor types\n",
    "- 'Builder_Floor':1\n",
    "- 'Apartment':2   "
   ]
  },
  {
   "cell_type": "code",
   "execution_count": 263,
   "id": "a266a611",
   "metadata": {},
   "outputs": [
    {
     "data": {
      "text/plain": [
       "array([1, 2], dtype=int64)"
      ]
     },
     "execution_count": 263,
     "metadata": {},
     "output_type": "execute_result"
    }
   ],
   "source": [
    "df.Type.replace({\n",
    "    'Builder_Floor':1,\n",
    "    'Apartment':2\n",
    "},inplace = True)\n",
    "df.Type.unique()"
   ]
  },
  {
   "cell_type": "code",
   "execution_count": 264,
   "id": "02d10d23",
   "metadata": {},
   "outputs": [
    {
     "data": {
      "text/html": [
       "<div>\n",
       "<style scoped>\n",
       "    .dataframe tbody tr th:only-of-type {\n",
       "        vertical-align: middle;\n",
       "    }\n",
       "\n",
       "    .dataframe tbody tr th {\n",
       "        vertical-align: top;\n",
       "    }\n",
       "\n",
       "    .dataframe thead th {\n",
       "        text-align: right;\n",
       "    }\n",
       "</style>\n",
       "<table border=\"1\" class=\"dataframe\">\n",
       "  <thead>\n",
       "    <tr style=\"text-align: right;\">\n",
       "      <th></th>\n",
       "      <th>Area</th>\n",
       "      <th>BHK</th>\n",
       "      <th>Bathroom</th>\n",
       "      <th>Furnishing</th>\n",
       "      <th>Locality</th>\n",
       "      <th>Parking</th>\n",
       "      <th>Price</th>\n",
       "      <th>Status</th>\n",
       "      <th>Transaction</th>\n",
       "      <th>Type</th>\n",
       "      <th>Per_Sqft</th>\n",
       "    </tr>\n",
       "  </thead>\n",
       "  <tbody>\n",
       "    <tr>\n",
       "      <th>0</th>\n",
       "      <td>800.0</td>\n",
       "      <td>3</td>\n",
       "      <td>2.0</td>\n",
       "      <td>1</td>\n",
       "      <td>Rohini Sector 25</td>\n",
       "      <td>1.0</td>\n",
       "      <td>6500000</td>\n",
       "      <td>1</td>\n",
       "      <td>1</td>\n",
       "      <td>1</td>\n",
       "      <td>8125.0</td>\n",
       "    </tr>\n",
       "    <tr>\n",
       "      <th>1</th>\n",
       "      <td>750.0</td>\n",
       "      <td>2</td>\n",
       "      <td>2.0</td>\n",
       "      <td>1</td>\n",
       "      <td>J R Designers Floors, Rohini Sector 24</td>\n",
       "      <td>1.0</td>\n",
       "      <td>5000000</td>\n",
       "      <td>1</td>\n",
       "      <td>1</td>\n",
       "      <td>2</td>\n",
       "      <td>6667.0</td>\n",
       "    </tr>\n",
       "    <tr>\n",
       "      <th>2</th>\n",
       "      <td>950.0</td>\n",
       "      <td>2</td>\n",
       "      <td>2.0</td>\n",
       "      <td>2</td>\n",
       "      <td>Citizen Apartment, Rohini Sector 13</td>\n",
       "      <td>1.0</td>\n",
       "      <td>15500000</td>\n",
       "      <td>1</td>\n",
       "      <td>2</td>\n",
       "      <td>2</td>\n",
       "      <td>6667.0</td>\n",
       "    </tr>\n",
       "    <tr>\n",
       "      <th>3</th>\n",
       "      <td>600.0</td>\n",
       "      <td>2</td>\n",
       "      <td>2.0</td>\n",
       "      <td>1</td>\n",
       "      <td>Rohini Sector 24</td>\n",
       "      <td>1.0</td>\n",
       "      <td>4200000</td>\n",
       "      <td>1</td>\n",
       "      <td>2</td>\n",
       "      <td>1</td>\n",
       "      <td>6667.0</td>\n",
       "    </tr>\n",
       "    <tr>\n",
       "      <th>4</th>\n",
       "      <td>650.0</td>\n",
       "      <td>2</td>\n",
       "      <td>2.0</td>\n",
       "      <td>1</td>\n",
       "      <td>Rohini Sector 24 carpet area 650 sqft status Ready to Move floor 4 out of 4 floors transaction New Property furnishing Semi-Furnished facing East overlooking Garden/Park, Main Road car parking 1 Open bathroom 2 balcony 1 ownership Freehold Newly Constructed Property Newly Constructed Property East Facing Property 2BHK Newly build property for Sale. A House is waiting for a Friendly Family to make it a lovely home.So please come and make his house feel alive once again. read more Contact Agent View Phone No. Share Feedback Garima properties Certified Agent Trusted by Users Genuine Listings Market Knowledge</td>\n",
       "      <td>1.0</td>\n",
       "      <td>6200000</td>\n",
       "      <td>1</td>\n",
       "      <td>1</td>\n",
       "      <td>1</td>\n",
       "      <td>6667.0</td>\n",
       "    </tr>\n",
       "  </tbody>\n",
       "</table>\n",
       "</div>"
      ],
      "text/plain": [
       "    Area  BHK  Bathroom  Furnishing  \\\n",
       "0  800.0  3    2.0       1            \n",
       "1  750.0  2    2.0       1            \n",
       "2  950.0  2    2.0       2            \n",
       "3  600.0  2    2.0       1            \n",
       "4  650.0  2    2.0       1            \n",
       "\n",
       "                                                                                                                                                                                                                                                                                                                                                                                                                                                                                                                                                                                                                               Locality  \\\n",
       "0  Rohini Sector 25                                                                                                                                                                                                                                                                                                                                                                                                                                                                                                                                                                                                                       \n",
       "1  J R Designers Floors, Rohini Sector 24                                                                                                                                                                                                                                                                                                                                                                                                                                                                                                                                                                                                 \n",
       "2  Citizen Apartment, Rohini Sector 13                                                                                                                                                                                                                                                                                                                                                                                                                                                                                                                                                                                                    \n",
       "3  Rohini Sector 24                                                                                                                                                                                                                                                                                                                                                                                                                                                                                                                                                                                                                       \n",
       "4  Rohini Sector 24 carpet area 650 sqft status Ready to Move floor 4 out of 4 floors transaction New Property furnishing Semi-Furnished facing East overlooking Garden/Park, Main Road car parking 1 Open bathroom 2 balcony 1 ownership Freehold Newly Constructed Property Newly Constructed Property East Facing Property 2BHK Newly build property for Sale. A House is waiting for a Friendly Family to make it a lovely home.So please come and make his house feel alive once again. read more Contact Agent View Phone No. Share Feedback Garima properties Certified Agent Trusted by Users Genuine Listings Market Knowledge   \n",
       "\n",
       "   Parking     Price  Status  Transaction  Type  Per_Sqft  \n",
       "0  1.0      6500000   1       1            1     8125.0    \n",
       "1  1.0      5000000   1       1            2     6667.0    \n",
       "2  1.0      15500000  1       2            2     6667.0    \n",
       "3  1.0      4200000   1       2            1     6667.0    \n",
       "4  1.0      6200000   1       1            1     6667.0    "
      ]
     },
     "execution_count": 264,
     "metadata": {},
     "output_type": "execute_result"
    }
   ],
   "source": [
    "df.head()"
   ]
  },
  {
   "cell_type": "code",
   "execution_count": 265,
   "id": "c4c1bad8",
   "metadata": {},
   "outputs": [
    {
     "data": {
      "text/plain": [
       "Area           0 \n",
       "BHK            0 \n",
       "Bathroom       2 \n",
       "Furnishing     0 \n",
       "Locality       0 \n",
       "Parking        29\n",
       "Price          0 \n",
       "Status         0 \n",
       "Transaction    0 \n",
       "Type           0 \n",
       "Per_Sqft       0 \n",
       "dtype: int64"
      ]
     },
     "execution_count": 265,
     "metadata": {},
     "output_type": "execute_result"
    }
   ],
   "source": [
    "df.isnull().sum()"
   ]
  },
  {
   "cell_type": "code",
   "execution_count": 266,
   "id": "2d0c5d0f",
   "metadata": {},
   "outputs": [],
   "source": [
    "df.dropna(subset = ['Bathroom','Parking'],inplace = True)"
   ]
  },
  {
   "cell_type": "code",
   "execution_count": 267,
   "id": "7f6c79c3",
   "metadata": {},
   "outputs": [
    {
     "data": {
      "text/plain": [
       "Area           0\n",
       "BHK            0\n",
       "Bathroom       0\n",
       "Furnishing     0\n",
       "Locality       0\n",
       "Parking        0\n",
       "Price          0\n",
       "Status         0\n",
       "Transaction    0\n",
       "Type           0\n",
       "Per_Sqft       0\n",
       "dtype: int64"
      ]
     },
     "execution_count": 267,
     "metadata": {},
     "output_type": "execute_result"
    }
   ],
   "source": [
    "df.isnull().sum()"
   ]
  },
  {
   "cell_type": "code",
   "execution_count": 268,
   "id": "b6299c5e",
   "metadata": {},
   "outputs": [
    {
     "data": {
      "text/plain": [
       "(1225, 11)"
      ]
     },
     "execution_count": 268,
     "metadata": {},
     "output_type": "execute_result"
    }
   ],
   "source": [
    "df.shape"
   ]
  },
  {
   "cell_type": "code",
   "execution_count": 269,
   "id": "e9ad996f",
   "metadata": {
    "scrolled": true
   },
   "outputs": [
    {
     "data": {
      "text/plain": [
       "Area           float64\n",
       "BHK            int64  \n",
       "Bathroom       float64\n",
       "Furnishing     int64  \n",
       "Locality       object \n",
       "Parking        float64\n",
       "Price          int64  \n",
       "Status         int64  \n",
       "Transaction    int64  \n",
       "Type           int64  \n",
       "Per_Sqft       float64\n",
       "dtype: object"
      ]
     },
     "execution_count": 269,
     "metadata": {},
     "output_type": "execute_result"
    }
   ],
   "source": [
    "df.dtypes"
   ]
  },
  {
   "cell_type": "code",
   "execution_count": 270,
   "id": "92da0687",
   "metadata": {},
   "outputs": [
    {
     "data": {
      "text/plain": [
       "'Rohini Sector 25'"
      ]
     },
     "execution_count": 270,
     "metadata": {},
     "output_type": "execute_result"
    }
   ],
   "source": [
    "df.Locality[0]"
   ]
  },
  {
   "cell_type": "code",
   "execution_count": 271,
   "id": "9807ed1d",
   "metadata": {},
   "outputs": [],
   "source": [
    "a = []\n",
    "for i in df.Locality:\n",
    "    if (len(i) > 20):\n",
    "        a.append(i)"
   ]
  },
  {
   "cell_type": "code",
   "execution_count": 272,
   "id": "47477665",
   "metadata": {},
   "outputs": [
    {
     "data": {
      "text/plain": [
       "['J R Designers Floors, Rohini Sector 24',\n",
       " 'Citizen Apartment, Rohini Sector 13',\n",
       " 'Rohini Sector 24 carpet area 650 sqft status Ready to Move floor 4 out of 4 floors transaction New Property furnishing Semi-Furnished facing East overlooking Garden/Park, Main Road car parking 1 Open bathroom 2 balcony 1 ownership Freehold Newly Constructed Property Newly Constructed Property East Facing Property 2BHK Newly build property for Sale. A House is waiting for a Friendly Family to make it a lovely home.So please come and make his house feel alive once again. read more Contact Agent View Phone No. Share Feedback Garima properties Certified Agent Trusted by Users Genuine Listings Market Knowledge',\n",
       " 'Delhi Homes, Rohini Sector 24',\n",
       " 'Rohini Sector 8 How Auctions work? The borrower has the physical possession of the Property. However the lender (Bank) can legally sell the Property. super area 32 sqm status Ready to Move floor 1 transaction Resale furnishing Semi-Furnished Contact Now Enquire Now Auction By',\n",
       " 'Rohini Sector 25 carpet area 660 sqft status Ready to Move floor 2 out of 4 floors transaction New Property furnishing Semi-Furnished facing North overlooking Garden/Park, Main Road car parking 1 Open bathroom 2 balcony 1 ownership Freehold Newly Constructed Property Newly Constructed Property Near by Ryan international school 2BHK Located on the Ground Floor of a four story building with open parking the flat measure 720 Sq Ft the property is located in a green and plush sector with common parks opposite every lane and bus and auto stand nearby. its situated 1.5 km from the metro station and walkable distance from shopping distance from shopping complex. read more Contact Agent View Phone No. Share Feedback Know your Certified Agent CRISIL Rating No of Employees 9 Kulwant & Company Certified Agent Trusted by Users Genuine Listings 5500+ Buyers Served',\n",
       " 'Mayur Apartment, Rohini Sector 9',\n",
       " 'Rohini Sector 18 carpet area 40 sqm status Ready to Move floor 2 out of 4 floors transaction Resale furnishing Furnished facing East overlooking Main Road car parking 2 Open bathroom 1 balcony 1 ownership Freehold East Facing Property It an LIG three side corner flat in second floor, having full scope of expansion. interior decorated with 2 textured wall , kajaria tiles , fully modular kitchen, branded bathroom and toilet fittings, LED panel, ac in one bedroom, false ceiling in entire flat.south facing unobstructed view balcony. It was all renovated only 2.5 yrs back so every thing is in brand new condition. read more Contact Owner View Phone No. Share Feedback Owner Pramod',\n",
       " 'Prashant Vihar, Rohini',\n",
       " 'Sanskriti Apartment, Rohini Sector 28',\n",
       " 'Vikram Vihar, Lajpat Nagar',\n",
       " 'Dayanand Colony, Lajpat Nagar How Auctions work? The borrower has the physical possession of the Property. However the lender (Bank) can legally sell the Property. super area 810 sqft status Ready to Move floor 1 out of 5 floors transaction Resale balcony 1 Contact Now Enquire Now Auction By Bank',\n",
       " 'Amar Colony, Lajpat Nagar',\n",
       " 'Amar Colony, Lajpat Nagar',\n",
       " 'Vikram Vihar, Lajpat Nagar',\n",
       " 'Vikram Vihar, Lajpat Nagar',\n",
       " 'Vikram Vihar, Lajpat Nagar',\n",
       " 'Vikram Vihar, Lajpat Nagar',\n",
       " 'DDA Flats Sector 14, Dwarka Sector 14',\n",
       " 'Siddhartha Heights, Dwarka Sector 24',\n",
       " 'MTNL Employees House Welfare Society, Dwarka Sector 24',\n",
       " 'Delhi Homes Yojana, Dwarka Sector 24',\n",
       " 'The Elite Spire, Dwarka Sector 21',\n",
       " 'Kunj Vihar Apartment, Dwarka Sector 12',\n",
       " 'Ashirwad Apartments, Dwarka Sector 12',\n",
       " 'MTNL Employees House Welfare Society, Dwarka Sector 24',\n",
       " 'Sunny Valley Apartments, Dwarka',\n",
       " 'Shri Agrasen Apartment, Dwarka Sector 7',\n",
       " 'Chopra Apartment, Dwarka Sector 23',\n",
       " 'Mohinder Apartments, Dwarka Sector 12',\n",
       " 'Chander Lok Apartment, Dwarka Sector 19',\n",
       " 'Neelachal, Dwarka Sector 5',\n",
       " 'MeeraBai Apartment, Dwarka Sector 5',\n",
       " 'Crescent Apartments, Dwarka Sector 18',\n",
       " 'Ashoka Enclave Apartment, Dwarka Sector 11',\n",
       " 'Nav Kairali Apartment, Dwarka Sector 3',\n",
       " 'Ashirwad Apartments, Dwarka',\n",
       " 'Indraprastha Apartment, Dwarka Sector 12',\n",
       " 'Mohinder Apartments, Dwarka',\n",
       " 'Ashoka Apartments, Dwarka Sector 12',\n",
       " 'Karuna Vihar Apartment, Dwarka',\n",
       " 'Nav Kairali Apartment, Dwarka Sector 3',\n",
       " 'LNT Apartments, Dwarka',\n",
       " 'Dwarka Sector 3 carpet area 400 sqft status Ready to Move floor 1 out of 4 floors transaction New Property furnishing Semi-Furnished facing West overlooking Main Road bathroom 1 balcony 1 ownership Freehold Newly Constructed Property 1BHK freehold property , reserved parking, ample space for visitor parking, bathrooms with modern facilities, complete light in all room, wooden wardrobes in bedrooms, separate electric & water meter connection, separate water tank at roof, electronic door lock system with intercom facility, wall to wall POP work, fall ceiling work in all rooms, royal paint work in all rooms, 24X7 running water, branded electric fittings, modular kitchen with electronic chimney, marble vitrified tile flooring, near to metro station, well connected to main road ect. 80 to 90 home loan available. Ready to move read more Contact Agent View Phone No. Share Feedback Agent S.B. Associates 4000+ Buyers Served',\n",
       " 'Chopra Apartment, Dwarka Sector 23',\n",
       " 'Vinoba Puri, Lajpat Nagar',\n",
       " 'Vinoba Puri, Lajpat Nagar',\n",
       " 'Budh Vihar super area 50 sqyrd status Ready to Move floor Ground out of 2 floors transaction Resale furnishing Unfurnished facing East car parking 1 Open bathroom 1 balcony 2 ownership Freehold For Sale 2 BHK 50 yrd, 2 side open Ground Floor, First and Second Floor in H Block, Gali No. 04, Near Laxmi Narain Mandir, BudhVihar read more Contact Agent View Phone No. Share Feedback Agent Sahyog Properties 1000+ Buyers Served',\n",
       " 'Saptrishi Apartment, Rohini Sector 23',\n",
       " 'Rohini ( 1 km from Shahbad Dairy, Rohini)',\n",
       " 'J R Designers Floors, Rohini Sector 24',\n",
       " 'J R Designers Floors, Rohini Sector 24',\n",
       " 'J R Designers Floors, Rohini Sector 24',\n",
       " 'J R Designers Floors, Rohini Sector 24',\n",
       " 'J R Designers Floors, Rohini Sector 24',\n",
       " 'J R Designers Floors, Rohini Sector 24',\n",
       " 'J R Designers Floors, Rohini Sector 24',\n",
       " 'J R Designers Floors, Rohini Sector 24',\n",
       " 'J R Designers Floors, Rohini Sector 24',\n",
       " 'J R Designers Floors, Rohini Sector 24',\n",
       " 'J R Designers Floors, Rohini Sector 24',\n",
       " 'J R Designers Floors, Rohini Sector 24',\n",
       " 'J R Designers Floors, Rohini Sector 24',\n",
       " 'J R Designers Floors, Rohini Sector 24',\n",
       " 'J R Designers Floors, Rohini Sector 24',\n",
       " 'J R Designers Floors, Rohini Sector 24',\n",
       " 'J R Designers Floors, Rohini Sector 24',\n",
       " 'J R Designers Floors, Rohini Sector 24',\n",
       " 'J R Designers Floors, Rohini Sector 24',\n",
       " 'J R Designers Floors, Rohini Sector 24',\n",
       " 'J R Designers Floors, Rohini Sector 24',\n",
       " 'J R Designers Floors, Rohini Sector 24',\n",
       " 'J R Designers Floors, Rohini Sector 24',\n",
       " 'J R Designers Floors, Rohini Sector 24',\n",
       " 'J R Designers Floors, Rohini Sector 24',\n",
       " 'J R Designers Floors, Rohini Sector 24',\n",
       " 'J R Designers Floors, Rohini Sector 24',\n",
       " 'J R Designers Floors, Rohini Sector 24',\n",
       " 'The Leela Sky Villas, Patel Nagar',\n",
       " 'J R Designers Floors, Rohini Sector 24',\n",
       " 'The Leela Sky Villas, Patel Nagar',\n",
       " 'Uttam Nagar Floors, Uttam Nagar',\n",
       " 'Virat Residency, Dwarka Mor',\n",
       " 'Siddhartha Heights, Dwarka Sector 24',\n",
       " 'Find Homes, Greater Kailash 2',\n",
       " 'MTNL Employees House Welfare Society, Dwarka Sector 24',\n",
       " 'Adarsh Homes, Dwarka Mor',\n",
       " 'Delhi Homes Yojana, Dwarka Sector 24',\n",
       " 'Kushwaha Homes, Uttam Nagar',\n",
       " 'Godrej South Estate, Okhla',\n",
       " 'The Elite Spire, Dwarka Sector 21',\n",
       " 'APL Builder Floor, Greater Kailash 1',\n",
       " 'Kunj Vihar Apartment, Dwarka Sector 12',\n",
       " 'Partap Homes, Bhagwati Vihar, Uttam Nagar',\n",
       " 'The Amaryllis, Karol Bagh',\n",
       " 'The Leela Sky Villas, Patel Nagar',\n",
       " 'Diamond Heights Multi Estate, Najafgarh',\n",
       " 'Ashirwad Apartments, Dwarka Sector 12',\n",
       " 'Sunny Valley Apartments, Dwarka',\n",
       " 'Vasant Vihar Builder Floor, Vasant Vihar',\n",
       " 'Friends Colony West, New Friends Colony',\n",
       " 'Maharani Bagh, New Friends Colony',\n",
       " 'New Friends Colony carpet area 4300 sqft status Ready to Move floor 2 out of 3 floors transaction Resale furnishing Unfurnished facing North - East overlooking Garden/Park, Main Road car parking 2 Covered, 2 Open bathroom 4 balcony 3 ownership Freehold hurry up... dont waste time any where, It is best deal in your pocket budget.well maintained second floor with terrace garden plus 2 additional room on terrace up for sale in new friends colony.the property has 4 king sized bedroom attached bathroom with roof top shower with Jacuzzi. It has 3 big balconies with wonderful outer view. It has modular kitchen with new fittings. It has servant quarter pooja room study room store room etc. It has drawing & dining. It has 2 car parking with gated society. It has 247 hours water supply with full power backup. It is in amazing location. read more Contact Agent View Phone No. Share Feedback Crisil Silver Agent Sagar Home Developers Pvt. Ltd. 1000+ Buyers Served',\n",
       " 'Friends Colony East, New Friends Colony',\n",
       " 'Maharani Bagh, New Friends Colony',\n",
       " 'Friends Colony West, New Friends Colony',\n",
       " 'Maharani Bagh, New Friends Colony',\n",
       " 'Maharani Bagh, New Friends Colony',\n",
       " 'Friends Colony East, New Friends Colony',\n",
       " 'Maharani Bagh, New Friends Colony',\n",
       " 'Kalindi Colony, Maharani Bagh, New Friends Colony',\n",
       " 'Friends Colony East, New Friends Colony',\n",
       " 'Maharani Bagh, New Friends Colony',\n",
       " 'Taimoor Enclave, New Friends Colony carpet area 2800 sqft status Ready to Move floor 2 out of 3 floors transaction Resale furnishing Semi-Furnished facing East overlooking Garden/Park society Taimoor Enclave car parking 2 Covered, 1 Open bathroom 4 balcony 2 ownership Freehold Two floor of the house is available for sale SECOND AND THIRD FLOOR EXTRA made, provision for LIFT can be provided by the OWNER .DDA FLATS of TAIMOOR ENCLAVE, NEAR GURUDWARA, NEW FRIENDS COLONY, SOUTH DELHI , HOUSE IS ON THE SECOND FLOOR have 3 bed room and 2 wash room and and same on the Third Floor, URGENT SALE, BROKER EXCUSE. read more Contact Agent View Phone No. Share Feedback Agent Delhi Homes 100+ Buyers Served',\n",
       " 'New Friends Colony Floors, New Friends Colony',\n",
       " 'Maharani Bagh, New Friends Colony',\n",
       " 'Kailash Colony, Greater Kailash',\n",
       " 'Kailash Colony, Greater Kailash',\n",
       " 'Kailash Colony, Greater Kailash',\n",
       " 'Kailash Colony, Greater Kailash',\n",
       " 'Kailash Colony, Greater Kailash',\n",
       " 'Kailash Colony, Greater Kailash',\n",
       " 'Kailash Colony, Greater Kailash',\n",
       " 'Kailash Colony, Greater Kailash',\n",
       " 'Kailash Colony, Greater Kailash',\n",
       " 'Kailash Colony, Greater Kailash',\n",
       " 'Kailash Colony, Greater Kailash',\n",
       " 'Kailash Colony, Greater Kailash',\n",
       " 'Kailash Colony, Greater Kailash',\n",
       " 'Kailash Colony, Greater Kailash',\n",
       " 'Kailash Colony, Greater Kailash',\n",
       " 'Kailash Colony, Greater Kailash',\n",
       " 'Kailash Colony, Greater Kailash',\n",
       " 'Kailash Colony, Greater Kailash',\n",
       " 'Kailash Colony, Greater Kailash',\n",
       " 'Kailash Colony, Greater Kailash',\n",
       " 'Kailash Colony, Greater Kailash',\n",
       " 'Kailash Colony, Greater Kailash',\n",
       " 'Kailash Colony, Greater Kailash',\n",
       " 'Kailash Colony, Greater Kailash',\n",
       " 'Kailash Colony, Greater Kailash',\n",
       " 'Kailash Colony, Greater Kailash',\n",
       " 'Kailash Colony, Greater Kailash',\n",
       " 'Kailash Colony, Greater Kailash',\n",
       " 'Kailash Colony, Greater Kailash',\n",
       " 'Hans Apartments, Vishwas Nagar, Shahdara',\n",
       " 'Naveen Shahdara, Shahdara',\n",
       " 'Balbir Nagar, Shahdara',\n",
       " 'Rohitash Nagar East, Shahdara',\n",
       " 'Naveen Shahdara, Shahdara',\n",
       " 'Vishwas Nagar, Shahdara',\n",
       " 'DDA RPS Flats, Mansarowar Park, Shahdara',\n",
       " 'Yamuna Vihar, Shahdara',\n",
       " 'Balbir Nagar, Shahdara',\n",
       " 'Rohtash Nagar, Shahdara',\n",
       " 'Ram Nagar Extension, Shahdara',\n",
       " 'Mansarowar Park, Shahdara',\n",
       " 'Gorakh Park West, Shahdara',\n",
       " 'Shivnam Apartment, Shahdara',\n",
       " 'Mansarowar Park, Shahdara',\n",
       " 'Ram Nagar Extension, Shahdara',\n",
       " 'Hans Apartments, Vishwas Nagar, Shahdara',\n",
       " 'Jyoti Colony, Shahdara',\n",
       " 'Ahinsha Vatika, Ram Nagar, Shahdara',\n",
       " 'Naveen Shahdara, Shahdara',\n",
       " 'Yamuna Vihar, Shahdara',\n",
       " 'Yamuna Vihar, Shahdara',\n",
       " 'Yamuna Vihar, Shahdara',\n",
       " 'Yamuna Vihar, Shahdara',\n",
       " 'Yamuna Vihar, Shahdara',\n",
       " 'Yamuna Vihar, Shahdara',\n",
       " 'Yamuna Vihar, Shahdara',\n",
       " 'Yamuna Vihar, Shahdara',\n",
       " 'Yamuna Vihar, Shahdara',\n",
       " 'Yamuna Vihar, Shahdara',\n",
       " 'Yamuna Vihar, Shahdara',\n",
       " 'Yamuna Vihar, Shahdara',\n",
       " 'Yamuna Vihar, Shahdara',\n",
       " 'Yamuna Vihar, Shahdara',\n",
       " 'Yamuna Vihar, Shahdara',\n",
       " 'Yamuna Vihar, Shahdara',\n",
       " 'Yamuna Vihar, Shahdara',\n",
       " 'Yamuna Vihar, Shahdara',\n",
       " 'Yamuna Vihar, Shahdara',\n",
       " 'Yamuna Vihar, Shahdara',\n",
       " 'mind. The space is airy, is well located and can be easily customized as per the needs. Prime facilities are easily accessible from this place with Government Girls Senior Secondary School No 2 (0 km ). Other key neighbourhood are B Block Market (0 km ). read more Contact Owner View Phone No. Share Feedback Owner vinod kumar',\n",
       " 'Yamuna Vihar, Shahdara',\n",
       " 'Yamuna Vihar, Shahdara',\n",
       " 'Yamuna Vihar, Shahdara',\n",
       " 'Yamuna Vihar, Shahdara',\n",
       " 'Yamuna Vihar, Shahdara',\n",
       " 'Yamuna Vihar, Shahdara',\n",
       " 'Yamuna Vihar, Shahdara',\n",
       " 'Yamuna Vihar, Shahdara',\n",
       " 'Jyoti Colony, Shahdara',\n",
       " 'Guru Angad Nagar West, Laxmi Nagar',\n",
       " 'Guru Angad Nagar West, Laxmi Nagar',\n",
       " 'Lalita Park, Laxmi Nagar',\n",
       " 'Krishan Kunj, Laxmi Nagar',\n",
       " 'Lalita Park, Laxmi Nagar',\n",
       " 'Laxmi Nagar super area 450 sqft status Ready to Move floor 3 out of 4 floors transaction New Property furnishing Semi-Furnished facing East overlooking Main Road bathroom 2 balcony 1 ownership Freehold Newly Constructed Property East Facing Property This Builder Floor Apartment at 3rd faces East & overlooks Main Road offering a beautiful view from the house. with airy interiors. The type of ownership is Freehold. The Builder Floor Apartment is newly constructed. Bank loans available from LIC Housing Finance, Kotak Mahindra Bank, Indiabulls. Flooring of type Marble covers maximum part of the house. The location has easy access to, Dena Bank (0 km ), Delhi Convent School (0 km ), DDA Market (0 km ) and Nirman Vihar Metro Station (2 km ). read more Contact Owner View Phone No. Share Feedback Owner Sonia',\n",
       " \"Laxmi Nagar carpet area 1000 sqft status Ready to Move floor 1 out of 4 floors transaction Resale furnishing Furnished bathroom 3 balcony 1 It's a 1st floor Builder Floor Apartment in a building of total 4 floors. The age of construction for this Builder Floor Apartment is between 10 to 15 years. The location has easy access to, Dena Bank (0 km ), Delhi Convent School (0 km ), DDA Market (0 km ) and Nirman Vihar Metro Station (2 km ). read more Contact Owner View Phone No. Share Feedback Owner Vipul Jain\",\n",
       " 'Bank Enclave, Laxmi Nagar',\n",
       " 'Guru Angad Nagar West, Laxmi Nagar',\n",
       " 'Uttam Nagar Floors, Uttam Nagar',\n",
       " 'Virat Residency, Dwarka Mor',\n",
       " 'Adarsh Homes, Dwarka Mor',\n",
       " 'Kushwaha Homes, Uttam Nagar',\n",
       " 'Partap Homes, Bhagwati Vihar, Uttam Nagar',\n",
       " 'SB Residency, Dwarka Mor',\n",
       " 'SB Residency, Dwarka Mor',\n",
       " 'Kiran Garden, Uttam Nagar',\n",
       " 'Mohan Garden, Razapur Khurd',\n",
       " 'Mitya Homes, Dwarka Mor',\n",
       " 'Uttam Nagar carpet area 550 sqft status Ready to Move transaction New Property furnishing Semi-Furnished facing East overlooking Main Road bathroom 2 balcony 1 ownership Freehold Newly Constructed Property Newly Constructed Property East Facing Property 2bhk fully furnished flats available for sale at uttam nagar, the flat is fully loaded, one singal wall texture in all bedrooms, modular kitchen, LED pannel in drawing room, wardrobes in bedroom read more Contact Agent View Phone No. Share Feedback Pranita Developers Pvt. Ltd. Certified Agent Trusted by Users Genuine Listings 100+ Buyers Served',\n",
       " 'New Uttam Nagar, Uttam Nagar',\n",
       " 'The Leela Sky Villas, Patel Nagar',\n",
       " 'The Leela Sky Villas, Patel Nagar',\n",
       " 'Patel Nagar South, Patel Nagar',\n",
       " 'Patel Nagar East, Patel Nagar',\n",
       " 'The Leela Sky Villas, Patel Nagar',\n",
       " 'Patel Nagar East, Patel Nagar',\n",
       " 'Patel Nagar East, Patel Nagar',\n",
       " 'Patel Nagar East, Patel Nagar',\n",
       " 'Patel Nagar East, Patel Nagar',\n",
       " 'The Leela Sky Villas, Patel Nagar',\n",
       " 'Punjabi Basti, Patel Nagar',\n",
       " 'Patel Nagar East, Patel Nagar',\n",
       " 'Patel Nagar East, Patel Nagar',\n",
       " 'Baljit Nagar, Patel Nagar',\n",
       " 'Baljit Nagar, Patel Nagar',\n",
       " 'DDA Flats Vasant Kunj, Vasant Kunj Sector B',\n",
       " 'DDA Flats Vasant Kunj, Vasant Kunj carpet area 1200 sqft status Ready to Move floor 5 out of 7 floors transaction Resale furnishing Semi-Furnished facing North - West overlooking Garden/Park, Main Road society DDA Flats Vasant Kunj car parking 1 Covered, 1 Open bathroom 2 balcony 2 ownership Freehold A southEAST facing 3 bhk resale flat is available in the promising locality of sectorE vasant kunj vasant kunj, delhi south. It is a ready to move in spacious flat and is located on the 5th floor. Every single detail of the flat is carefully designed. This property offers quality specifications such as lifts, park, water storage and securityfire alar. It is a gated society flat. It provides a spectacular view of the main road and parkgarden. The apartment is priced at rs. 2 cr. It is a freehold property, with a super builtUp area of 1600 sq. Ft. The property price is negotiable. read more Contact Agent Enquire Now Share Feedback Crisil Silver Agent Link Properties Pvt. Ltd. 5000+ Buyers Served',\n",
       " 'DDA Flats Vasant Kunj, Vasant Kunj',\n",
       " 'DDA Flats Pocket 1, Vasant Kunj Sector B',\n",
       " 'Saraswati Narmada Ganga Yamuna Apartment, Vasant Kunj Sector D',\n",
       " 'DDA Flats Vasant Kunj, Vasant Kunj',\n",
       " 'DDA Flats Sector E Pocket 1, Vasant Kunj',\n",
       " 'DDA Flats Sector E Pocket 1, Vasant Kunj',\n",
       " 'DDA Flats Vasant Kunj, Vasant Kunj Sector D',\n",
       " 'E2 Vasant Kunj, Vasant Kunj',\n",
       " 'DDA Flats Vasant Kunj, Vasant Kunj',\n",
       " 'Ganga Apartment Sector D Pocket 6, Vasant Kunj',\n",
       " 'DDA Flats Sector E Pocket 1, Vasant Kunj',\n",
       " 'DDA Flats Vasant Kunj, Vasant Kunj Sector C',\n",
       " 'Kishangarh, Vasant Kunj',\n",
       " 'DDA Pocket 1, Vasant Kunj Sector D',\n",
       " 'Ganga Apartment Sector D Pocket 6, Vasant Kunj',\n",
       " 'The Leela Sky Villas, Patel Nagar',\n",
       " 'J R Designers Floors, Rohini Sector 24',\n",
       " 'The Leela Sky Villas, Patel Nagar',\n",
       " 'Uttam Nagar Floors, Uttam Nagar',\n",
       " 'Virat Residency, Dwarka Mor',\n",
       " 'Siddhartha Heights, Dwarka Sector 24',\n",
       " 'Find Homes, Greater Kailash 2',\n",
       " 'MTNL Employees House Welfare Society, Dwarka Sector 24',\n",
       " 'Adarsh Homes, Dwarka Mor',\n",
       " 'Delhi Homes Yojana, Dwarka Sector 24',\n",
       " 'Kushwaha Homes, Uttam Nagar',\n",
       " 'Godrej South Estate, Okhla',\n",
       " 'The Elite Spire, Dwarka Sector 21',\n",
       " 'APL Builder Floor, Greater Kailash 1',\n",
       " 'Kunj Vihar Apartment, Dwarka Sector 12',\n",
       " 'Partap Homes, Bhagwati Vihar, Uttam Nagar',\n",
       " 'The Amaryllis, Karol Bagh',\n",
       " 'The Leela Sky Villas, Patel Nagar',\n",
       " 'Diamond Heights Multi Estate, Najafgarh',\n",
       " 'Ashirwad Apartments, Dwarka Sector 12',\n",
       " 'Sunny Valley Apartments, Dwarka',\n",
       " 'Vasant Vihar Builder Floor, Vasant Vihar',\n",
       " 'Krishna Nagar Block A',\n",
       " 'Taj Enclave, Khairatabad',\n",
       " 'Shastri Park, Shahdara',\n",
       " 'Shastri Park, Shahdara',\n",
       " 'Sitaram Bazar, Chandni Chowk',\n",
       " 'Shahdara How Auctions work? The borrower has the physical possession of the Property. However the lender (Bank) can legally sell the Property. super area 852 sqft status Ready to Move transaction Resale ownership Freehold bathroom 2 Contact Now Enquire Now Auction By',\n",
       " 'Anupam Enclave, Saket',\n",
       " 'Metrotech Builder Floors, Saket',\n",
       " 'Saket Court Residential Complex, Saket',\n",
       " 'Press Enclave Society, Saket',\n",
       " 'Project Paryavaran Complex, Saket',\n",
       " 'Press Enclave Society, Saket',\n",
       " 'Arjun Nagar, Safdarjung Enclave',\n",
       " \"Safdarjung Enclave carpet area 1100 sqft status Ready to Move floor Ground out of 4 floors transaction Resale furnishing Unfurnished facing North - East overlooking Garden/Park, Main Road car parking 1 Covered, 1 Open bathroom 3 balcony 3 ownership Freehold if you are searching for your dream house, congratulation. you're not so far from your destiny. we got unbeatable ground floor in b-block safdarjung enclave for sale. it is in 150 yds. It has 3 large king sized bedroom attached bathroom with Jacuzzi and roof top shower with all other fittings. it has modular kitchen with all needed facility. it has 3 big balcony with amazing out side view. it has 1 servant quarter also. it has 1 reserved car parking with gated society. It has 24*7 water supply with full power backup. for more information contact us at once because it can be your dream house. read more Contact Agent View Phone No. Share Feedback Crisil Silver Agent Sagar Home Developers Pvt. Ltd. 1000+ Buyers Served\",\n",
       " 'Arjun Nagar, Safdarjung Enclave',\n",
       " 'Arjun Nagar, Safdarjung Enclave',\n",
       " 'Krishna Nagar-Safdarjung Enclave',\n",
       " 'Safdarjung Enclave carpet area 3250 sqft status Ready to Move floor 1 out of 4 floors transaction Resale furnishing Semi-Furnished facing North - East overlooking Garden/Park, Main Road car parking 1 Covered bathroom 4 balcony 3 ownership Freehold Near Buy Green park Metro station. The location of the property is Awesome and Peaceful. The construction is very Highend and Very tasteful Done-up. The Same property is location on the FF. 4 Side corner read more Contact Agent Enquire Now Share Feedback Crisil Silver Agent Findahouse Real Estate Consultants LLP 2000+ Buyers Served',\n",
       " 'Krishna Nagar-Safdarjung Enclave',\n",
       " 'Safdarjung Enclave carpet area 290 sqyrd status Ready to Move floor 2 out of 3 floors transaction Resale furnishing Semi-Furnished facing West overlooking Main Road car parking 2 Open bathroom 4 balcony 3 ownership Freehold Opposite Deer Park.The property comes with independent Terrace. The area is centrally located and close to ring road which allows easy acess to all other areas.Renowned Delhi Lawn Tennis Association is within 10 minutes walking distance.Green park market is walkable distance. read more Contact Owner View Phone No. Share Feedback Owner Hemant pajankar',\n",
       " 'Arjun Nagar, Safdarjung Enclave',\n",
       " 'Arjun Nagar, Safdarjung Enclave',\n",
       " 'Safdarjung Enclave carpet area 1450 sqft status Ready to Move floor 3 out of 4 floors transaction Resale furnishing Semi-Furnished facing North - East overlooking Garden/Park, Main Road car parking 1 Covered, 1 Open bathroom 3 balcony 2 ownership Freehold Park facing builder floor apartment available for sale in safderjung enclave, 3 bedroom with attached bathroom, drawing dinning, modular kitchen. the property is on the top floor of a four storey building with terrace right, servant quarter, 1 car parking in stilt. read more Contact Agent View Phone No. Share Feedback Agent Delhi Homes Realty 1000+ Buyers Served',\n",
       " 'Safdarjung Enclave super area 2200 sqft status Ready to Move floor 2 out of 4 floors transaction New Property furnishing Semi-Furnished facing South overlooking Main Road car parking 3 Covered, 2 Open bathroom 4 balcony 3 ownership Freehold Newly Constructed Property Wide Road 450 Yards 2nd floor brand new 4 bhk attached bathrooms with full lighted and ventilated house.Most Valuable DealSEE TO BELIEVE read more Contact Agent View Phone No. Share Feedback Crisil Bronze Agent Panchsheel Homes 500+ Buyers Served',\n",
       " 'Pushkar Enclave, Paschim Vihar',\n",
       " 'Paschim Vihar Block B2',\n",
       " 'Paschimpuri, Paschim Vihar',\n",
       " 'Paschim Vihar Block B4',\n",
       " 'Paschim Vihar How Auctions work? The borrower has the physical possession of the Property. However the lender (Bank) can legally sell the Property. carpet area 780 sqft status Ready to Move floor Ground out of 3 floors transaction Resale furnishing Unfurnished facing West bathroom 2 balcony 1 ownership Freehold Contact Now Enquire Now Auction By Bank',\n",
       " 'DDA Lig Flats, Paschim Vihar carpet area 45 sqyrd status Ready to Move floor 4 out of 4 floors transaction Resale furnishing Semi-Furnished facing East overlooking Garden/Park, Main Road society DDA Lig Flats bathroom 1 balcony 1 ownership Freehold East Facing Property Expected price for the Flat is kept at 45 Lac. This is a 1 bedroom apartment present in DDA Lig Flats, Paschim Vihar. It measures an area of 45 Sq-m. It is on 4 floor out of 4 floors in the tower and is also well ventilated. The Flat has 1 washroom and also has 1 spacious balcony. read more Contact Owner View Phone No. Share Feedback Owner Anil',\n",
       " 'Archana Apartment, Paschim Vihar',\n",
       " 'Guru Harikishan Nagar, Paschim Vihar',\n",
       " 'Paschimpuri, Paschim Vihar',\n",
       " 'Mianwali Nagar, Paschim Vihar',\n",
       " 'Navbharat Apartment, Paschim Vihar Block B1',\n",
       " 'Paschim Vihar Block A2',\n",
       " 'LIC Colony, Paschim Vihar',\n",
       " 'Paschimpuri, Paschim Vihar',\n",
       " 'DDA Lig Flats, Paschim Vihar',\n",
       " 'Pushkar Enclave, Paschim Vihar',\n",
       " 'Paschim Vihar carpet area 850 sqft status Ready to Move floor 2 out of 4 floors transaction Resale furnishing Unfurnished facing North overlooking Garden/Park bathroom 3 balcony 1 ownership Freehold If you want to live a contended, pollution-free and peaceful life with your family and children, here is the once in a lifetime opportunity awaiting your attention!! Presenting a 3BHK ready to move flat up for sale in Paschim Vihar, which is becoming a dream residential area for its ability to provide a slice of authentic New Delhi city life. Property SpecificationsWell-knitted and planned on the super area of 900 sq ft is this 2bhk flat where the owner enjoys the complete rights of the freehold ownership. In a low-rise building of four-floors, this impressive infrastructure is positioned on the second floor, hence the residents can experience the greatest possible cross ventilation and natural sunlight.Though the age of construction is between 15-20 years, this north-facing flat is perfectly maintained and features 3 spacious bedrooms, 2 bathrooms, 2 airy balconies, a dining room, a living room, and a kitchen. All the bedrooms are adorned with decorative wardrobes offered with enough space for storage of clothes and other valuables.The attached toilet is designed in Indian fashion which is mounted-up with a geyser where you can enjoy a hot water bath, while the bathroom available for common use fashioned in the western genre.Further, an eye-catching view of the lush green garden is visible from the two well-aligned balconies where you can enjoy a hot cup of tea, where one balcony is connected to the bedroom, while the other balcony opens to the lobby. Bedecked with a granite countertop, a piped gas connection, and a chimney, the contemporarily designed modular kitchen is also provided with a wash area and also sufficient space for fridge.The entire flat is polished up with the good quality tiles which are easy to install and can be quite pleasant and comfortable underfoot.FacilitiesKeeping in mind the convenience of the residents, some of the basic facilities such as an unrestricted supply of water, and power backup with invertor. Additionally, one open parking space for 1 vehicle read more Contact Owner Share Feedback Owner Yogeet',\n",
       " 'Shubh Niketan, Paschim Vihar',\n",
       " 'Ashoka Apartment, Paschim Vihar Block A2',\n",
       " 'Paschim Vihar Block B4',\n",
       " 'Guru Harikishan Nagar, Paschim Vihar',\n",
       " 'Sunder Apartments, Sunder Vihar, Paschim Vihar',\n",
       " 'Ashirwad Apartments, Dwarka',\n",
       " 'Rajasthan Apartment, Aashirwaad Chowk, Dwarka',\n",
       " 'Rajasthan Apartment, Aashirwaad Chowk, Dwarka',\n",
       " 'Gold Croft Apartment, Aashirwaad Chowk, Dwarka',\n",
       " 'Chanakya Apartments, Aashirwaad Chowk, Dwarka',\n",
       " 'Bank Apartments, Aashirwaad Chowk, Dwarka carpet area 1550 sqft status Ready to Move floor 7 out of 7 floors transaction Resale furnishing Semi-Furnished facing North - East overlooking Garden/Park, Main Road society Bank Apartments car parking 1 Covered, 1 Open bathroom 2 balcony 3 ownership Freehold A spacious 3 Bedroom flat is available for sale in Dwarka , New Delhi.it is cornor building plenty of sunlight and airy. It is located on the 2 Floor. It has a covered area of 1500 Sq-ft. The flat has vitrified tiles & Mosiac flooring. The flat has 24 Hours Available water supply and No/Rare Powercut.. The property is fantastically located and is much sought-after. The property is available at a very competitive Price. read more Contact Agent View Phone No. Share Feedback Sikka Realtors Has Maximum Property Options Is the Top Agent of the Locality Is Trusted by All Users CRISIL Rating No of employees 12 Sikka Realtors Certified Agent Locality Superstar Aashirwaad Chowk, Dwarka 2500+ Buyers Served',\n",
       " 'Mohinder Apartments, Aashirwaad Chowk, Dwarka',\n",
       " 'Bank Apartments, Aashirwaad Chowk, Dwarka',\n",
       " 'Aashirwaad Chowk, Dwarka',\n",
       " 'Bank Apartments, Aashirwaad Chowk, Dwarka',\n",
       " 'Saheta Apartment, Aashirwaad Chowk, Dwarka',\n",
       " 'Pushpanjali Apartments, Aashirwaad Chowk, Dwarka',\n",
       " 'Aashirwaad Chowk, Dwarka',\n",
       " 'Aashirwaad Chowk, Dwarka',\n",
       " 'Green Heavens Apartment, Aashirwaad Chowk, Dwarka',\n",
       " 'Hum Sub Apartment, Aashirwaad Chowk, Dwarka',\n",
       " 'Aashirwaad Chowk, Dwarka',\n",
       " 'Bank Apartments, Aashirwaad Chowk, Dwarka',\n",
       " 'Defence Officers Apartment, Aashirwaad Chowk, Dwarka',\n",
       " 'Aashirwaad Chowk, Dwarka',\n",
       " 'Sanchar Vihar Apartment, Aashirwaad Chowk, Dwarka',\n",
       " 'Sarve Satyam Apartment, Aashirwaad Chowk, Dwarka',\n",
       " 'Aashirwaad Chowk, Dwarka',\n",
       " 'Palm Green Apartment, Aashirwaad Chowk, Dwarka',\n",
       " 'Neelachal, Aashirwaad Chowk, Dwarka',\n",
       " 'Kailash Apartments, Aashirwaad Chowk, Dwarka',\n",
       " 'New Jyoti Apartments, Aashirwaad Chowk, Dwarka',\n",
       " 'Green Heavens Apartment, Aashirwaad Chowk, Dwarka',\n",
       " 'PNB Employees Apartment, Aashirwaad Chowk, Dwarka',\n",
       " 'Sadbhawna CGHS, Aashirwaad Chowk, Dwarka',\n",
       " 'Common Wealth Games Village, Commonwealth Games Village 2010',\n",
       " 'Commonwealth Games Village 2010',\n",
       " 'Common Wealth Games Village, Commonwealth Games Village 2010',\n",
       " 'Project Commonwealth Games Village 2010, Akshardham Temple',\n",
       " 'Common Wealth Games Village, Commonwealth Games Village 2010',\n",
       " 'Project Commonwealth Games Village 2010, Commonwealth Games Village 2010',\n",
       " 'Project Commonwealth Games Village 2010, Commonwealth Games Village 2010',\n",
       " 'Common Wealth Games Village, Commonwealth Games Village 2010',\n",
       " 'Project Commonwealth Games Village 2010, Akshardham Temple',\n",
       " 'Commonwealth Games Village 2010',\n",
       " 'Common Wealth Games Village, Commonwealth Games Village 2010',\n",
       " 'Common Wealth Games Village, Commonwealth Games Village 2010',\n",
       " 'Commonwealth Games Village 2010',\n",
       " 'Common Wealth Games Village, Commonwealth Games Village 2010',\n",
       " 'Common Wealth Games Village, Commonwealth Games Village 2010',\n",
       " 'Project Commonwealth Games Village 2010, Commonwealth Games Village 2010',\n",
       " 'Commonwealth Games Village 2010',\n",
       " 'Project Commonwealth Games Village 2010, Commonwealth Games Village 2010',\n",
       " 'Common Wealth Games Village, Commonwealth Games Village 2010',\n",
       " 'Common Wealth Games Village, Commonwealth Games Village 2010',\n",
       " 'Common Wealth Games Village, Commonwealth Games Village 2010',\n",
       " 'Common Wealth Games Village, Commonwealth Games Village 2010',\n",
       " 'Commonwealth Games Village 2010',\n",
       " 'Project Commonwealth Games Village 2010, Commonwealth Games Village 2010',\n",
       " 'Common Wealth Games Village, Commonwealth Games Village 2010',\n",
       " 'Common Wealth Games Village, Commonwealth Games Village 2010',\n",
       " 'Common Wealth Games Village, Commonwealth Games Village 2010',\n",
       " 'Commonwealth Games Village 2010',\n",
       " 'Project Commonwealth Games Village 2010, Commonwealth Games Village 2010',\n",
       " 'Shivalik Apartments, Alaknanda',\n",
       " 'Narmada Apartment, Alaknanda',\n",
       " 'Gangotri Enclave, Alaknanda',\n",
       " 'Aravali Apartments, Alaknanda',\n",
       " 'Narmada Apartment, Alaknanda',\n",
       " 'Aravali Apartments, Alaknanda',\n",
       " 'Shivalik Apartments, Alaknanda',\n",
       " 'Narmada Apartment, Alaknanda',\n",
       " 'Tara Apartment, Alaknanda',\n",
       " 'Narmada Apartment, Alaknanda',\n",
       " 'Narmada Apartment, Alaknanda carpet area 1400 sqft status Ready to Move floor Ground out of 3 floors transaction Resale furnishing Furnished facing North - East overlooking Garden/Park, Main Road society Narmada Apartment car parking 1 Open bathroom 3 balcony 1 ownership Freehold Near Alaknanda Main Market & Greater Kailash Metro Station. A very good 3 bhk flat for sale in rwa Narmada Apartment, delhi south. It is a superb property and offers an excellent view. The flat is unfurnished. It promises a comfortable stay. It is feng shuivaastu compliant, which is considered to bring positive energy. The appeal of the flat has been increased with the availability of a pipedGa. Indeed, the society too has multiple facilities for enjoyment, such as club housecommunity center and fitness centregym etc. It also has rain water harvesting system. It has a super builtUp area of 180 sq. Yards. read more Contact Agent View Phone No. Share Feedback Agent Sulabh Estate',\n",
       " 'Greater Kailash 4 Nri Colony',\n",
       " 'Project Gangotri Enclave, Alaknanda',\n",
       " 'Project Gangotri Enclave, Gangotri Enclave, Alaknanda',\n",
       " 'Narmada Apartment, Alaknanda',\n",
       " 'Nilgiri Apartment, Alaknanda',\n",
       " 'Yamuna Apartment, Alaknanda',\n",
       " 'Nilgiri Apartment, Alaknanda',\n",
       " 'Nilgiri Apartment, Alaknanda',\n",
       " 'Tara Apartment, Alaknanda carpet area 1400 sqft status Ready to Move floor 2 out of 3 floors transaction Resale furnishing Furnished facing North - East overlooking Garden/Park society Tara Apartment car parking 1 Covered, 1 Open bathroom 3 balcony 4 ownership Freehold Near Alaknanda Main Market, Jamia Humderd University & Batra hospital. A very good 3 bhk flat for sale in rwa Tara Apartment, delhi south. It is a superb property and offers an excellent view. The flat is unfurnished. It promises a comfortable stay. It is feng shuivaastu compliant, which is considered to bring positive energy. The appeal of the flat has been increased with the availability of a pipedGa. Indeed, the society too has multiple facilities for enjoyment, such as club housecommunity center and fitness centregym etc. It also has rain water harvesting system. It has a super builtUp area of 180 sq. Yards. Other f read more Contact Agent View Phone No. Share Feedback Agent Sulabh Estate',\n",
       " 'DDA Flats, Sarita Vihar, Mathura Road carpet area 1600 sqft status Ready to Move floor 1 out of 4 floors transaction Resale furnishing Semi-Furnished facing North - East overlooking Main Road society DDA Flats car parking 2 Open bathroom 2 balcony 2 ownership Freehold For sale First second third duplex in sarita vihar DDA Flates . this house free hold property clear titel . this flate well maintained and spacious peacefull location . no issue light water and parking read more Contact Agent View Phone No. Share Feedback Shree Balaji Real Estate Pvt. Ltd. Has Maximum Property Options Is the Top Agent of the Locality Is Trusted by All Users 21 Property Options in Sarita Vihar, Mathura Road Shree Balaji Real Estate Pvt. Ltd. Certified Agent Locality Superstar Maximum options in Sarita Vihar, Mathura Road',\n",
       " 'DDA Flats Sarita Vihar, Sarita Vihar, Mathura Road',\n",
       " 'DDA Flats, Sarita Vihar, Mathura Road carpet area 1600 sqft status Ready to Move floor Ground out of 4 floors transaction Resale furnishing Semi-Furnished facing North - West overlooking Main Road society DDA Flats car parking 1 Open bathroom 2 balcony 2 ownership Freehold For slae Ground First Duplex in sarita vihar .posh locality in south delhi DDa coloney . This house spacious 4 bedrooms with 2 washrooms drawing and dinning . free hold proerty clear titel . near by all amnites . well develop location . read more Contact Agent View Phone No. Share Feedback Shree Balaji Real Estate Pvt. Ltd. Has Maximum Property Options Is the Top Agent of the Locality Is Trusted by All Users 21 Property Options in Sarita Vihar, Mathura Road Shree Balaji Real Estate Pvt. Ltd. Certified Agent Locality Superstar Maximum options in Sarita Vihar, Mathura Road',\n",
       " 'DDA Flats Sarita Vihar, Sarita Vihar, Mathura Road',\n",
       " 'DDA Flats Sarita Vihar, Sarita Vihar, Mathura Road',\n",
       " 'DDA Flats Sarita Vihar, Sarita Vihar, Mathura Road',\n",
       " 'DDA Flats Sarita Vihar, Sarita Vihar, Mathura Road',\n",
       " 'DDA Flats Sarita Vihar, Sarita Vihar, Mathura Road',\n",
       " 'DDA Flats Sarita Vihar, Sarita Vihar, Mathura Road',\n",
       " 'DDA Flats Sarita Vihar, Sarita Vihar, Mathura Road',\n",
       " 'DDA Flats Sarita Vihar, Sarita Vihar, Mathura Road',\n",
       " 'DDA Flats Sarita Vihar, Sarita Vihar Pocket K',\n",
       " 'DDA Flats Sarita Vihar, Sarita Vihar Pocket K',\n",
       " 'DDA Flats Sarita Vihar, Sarita Vihar, Mathura Road',\n",
       " 'DDA Flats Sarita Vihar, Sarita Vihar, Mathura Road',\n",
       " 'DDA Flats Sarita Vihar, Sarita Vihar, Mathura Road',\n",
       " 'DDA Flats Sarita Vihar, Sarita Vihar, Mathura Road',\n",
       " 'DDA Flats Sarita Vihar, Sarita Vihar, Mathura Road',\n",
       " 'DDA Flats Sarita Vihar, Sarita Vihar, Mathura Road',\n",
       " 'DDA Flats Sarita Vihar, Sarita Vihar, Mathura Road',\n",
       " 'DDA Flats Sarita Vihar, Sarita Vihar, Mathura Road',\n",
       " 'DDA Flats Sarita Vihar, Sarita Vihar Pocket K',\n",
       " 'DDA Flats Sarita Vihar, Sarita Vihar, Mathura Road',\n",
       " 'DDA Flats Sarita Vihar, Sarita Vihar, Mathura Road',\n",
       " 'Sidharth Enclave, Kilokri, Ring Road',\n",
       " 'Sidharth Enclave, Kilokri, Ring Road',\n",
       " 'Sarita Vihar Pocket B',\n",
       " 'Sarita Vihar Pocket F',\n",
       " 'DDA Flats, Sarita Vihar, Mathura Road carpet area 1150 sqft status Ready to Move floor 3 out of 3 floors transaction Resale furnishing Semi-Furnished facing North - East overlooking Main Road society DDA Flats car parking 2 Open bathroom 2 balcony 3 ownership Freehold 2 BHK flat available for sale in sarita vihar excellent interiors flooring in all bedrooms complete wood work modular kitchen beautiful bathrooms extremely well maintained ample parking space read more Contact Agent View Phone No. Share Feedback Lavish Associates Certified Agent Trusted by Users Genuine Listings Market Knowledge',\n",
       " 'New Manglapuri, Sultanpur',\n",
       " 'New Manglapuri, Sultanpur',\n",
       " 'New Manglapuri, Sultanpur',\n",
       " 'Manglapuri, Sultanpur',\n",
       " 'Indra Park Palam, Manglapuri',\n",
       " 'Sultanpur carpet area 1100 sqft status Ready to Move floor 1 out of 4 floors transaction Resale furnishing Semi-Furnished overlooking Main Road car parking 1 Covered bathroom 2 balcony 2 ownership Freehold 2 bhk flat available in sultanpur, near metro station, loan facility available, with registry, all the modern facilities are variable, with car parking, near market, fully ventilated. read more Contact Agent View Phone No. Share Feedback Agent Delhi Dream 3500+ Buyers Served',\n",
       " 'New Manglapuri, Sultanpur',\n",
       " 'New Manglapuri, Sultanpur',\n",
       " 'New Manglapuri, Sultanpur',\n",
       " 'New Manglapuri, Sultanpur',\n",
       " 'New Manglapuri, Sultanpur',\n",
       " 'Manglapuri, Sultanpur',\n",
       " 'New Manglapuri, Sultanpur',\n",
       " 'New Manglapuri, Sultanpur',\n",
       " 'New Manglapuri, Sultanpur',\n",
       " 'Manglapuri, Sultanpur',\n",
       " 'Manglapuri, Sultanpur',\n",
       " 'Indra Park Palam, Manglapuri',\n",
       " 'Indra Park Palam, Manglapuri',\n",
       " \"Chhattarpur carpet area 400 sqyrd status Ready to Move transaction New Property furnishing Semi-Furnished car parking 1 Covered, 1 Open bathroom 2 balcony 1 Newly Constructed Property It's a Ground floor Builder Floor Apartment in a building of total 4 floors. The Builder Floor Apartment is newly constructed. Prime facilities are easily accessible from this place with Oxford Angel Public School (0 km ). Other key neighbourhood are Abdul Gaffar Khan Market (0 km ). read more Contact Agent View Phone No. Share Feedback Home Hunt Has Maximum Property Options Is the Top Agent of the Locality Is Trusted by All Users 4 Property Options in Chhattarpur CRISIL Rating Operating Since 2011 No of employees 5 Home Hunt Certified Agent Locality Superstar Chhattarpur 500+ Buyers Served\",\n",
       " 'JVTS Gardens, Chhattarpur',\n",
       " 'Chhattarpur Enclave Phase2',\n",
       " 'JVTS Gardens, Chhattarpur',\n",
       " 'Chhattarpur Enclave Phase2',\n",
       " 'Chhattarpur Enclave Phase2',\n",
       " 'Chhattarpur Enclave Phase2',\n",
       " 'DLF Chattarpur Farms, Chhattarpur',\n",
       " 'Chhattarpur Enclave Phase2',\n",
       " 'Chhattarpur Enclave Phase2',\n",
       " 'Aravali Tower, Chhattarpur',\n",
       " 'Chhattarpur Enclave Phase2',\n",
       " 'Chhattarpur Enclave Phase2',\n",
       " 'Mehrauli carpet area 1300 sqft status Ready to Move floor 2 out of 4 floors transaction New Property furnishing Semi-Furnished facing East overlooking Garden/Park, Main Road car parking 2 Covered bathroom 3 balcony 2 ownership Freehold 3 bhk flat with attached washroom, modular kitchen, IInd floor, one car and one bike parking, lift, gated society, security, cctv camera, water backup. read more Contact Agent View Phone No. Share Feedback Agent India Bhoomi',\n",
       " 'Andheria Mor, Mehrauli',\n",
       " 'Mehrauli carpet area 1250 sqft status Ready to Move floor Ground out of 8 floors transaction Resale furnishing Semi-Furnished facing East overlooking Main Road car parking 1 Covered bathroom 2 balcony 3 ownership Freehold The flat located are very good condition and well developed area. The flat area are very spaciable. This flat balcony view is very best society very neat and clean. read more Contact Agent View Phone No. Share Feedback Agent Bharti Real Estate 100+ Buyers Served',\n",
       " 'Andheria Mor, Mehrauli',\n",
       " 'Andheria Mor, Mehrauli',\n",
       " 'Brijwasi Colony, Mehrauli',\n",
       " 'Mahavir Enclave Part 1',\n",
       " 'Mahavir Enclave Part 1',\n",
       " 'Mahavir Enclave Part 1',\n",
       " 'Mahavir Enclave Part 1 carpet area 1000 sqft status Ready to Move floor 2 out of 4 floors transaction Resale furnishing Semi-Furnished facing East car parking 1 Covered bathroom 2 balcony 2 East Facing Property this property is for sale purpose.......................... Contact Owner View Phone No. Share Feedback Owner Twinkle Sudan',\n",
       " 'Mahavir Enclave Part 1',\n",
       " 'Mahavir Enclave Part 1',\n",
       " 'Mahavir Enclave Part 1',\n",
       " 'Mahavir Enclave Part 1',\n",
       " 'Mahavir Enclave Part 1',\n",
       " 'Mahavir Enclave Part 1',\n",
       " 'Mahavir Enclave Part 1',\n",
       " 'Mahavir Enclave Part 1',\n",
       " 'Mahavir Enclave Part 1',\n",
       " 'Mahavir Enclave Part 1',\n",
       " 'Mahavir Enclave Part 1',\n",
       " 'Mahavir Enclave carpet area 565 sqft status Ready to Move floor Ground out of 1 floor transaction Resale furnishing Unfurnished facing East car parking 1 Covered bathroom 2 balcony 1 ownership Freehold East Facing Property This Freehold Builder Floor Apartment is located at Ground floor in a building of total 1 floors. The age of construction for this apartment Builder Floor Apartment is Less than 5 years. High quality flooring of types Granite are available in different rooms. read more Contact Owner View Phone No. Share Feedback Owner Adesh Sah',\n",
       " 'Mahavir Enclave Part 3',\n",
       " 'Mahavir Enclave Part 1',\n",
       " 'Vijay Enclave, Mahavir Enclave',\n",
       " 'Mahavir Enclave Part 3',\n",
       " 'Narela Sector A1 carpet area 42 sqyrd status Ready to Move floor Ground out of 5 floors transaction Resale furnishing Unfurnished facing North - East overlooking Garden/Park, Main Road car parking 2 Open bathroom 2 balcony 2 ownership Freehold Near bawana industrial area and j.j. colony. DDA Housing property LIG FLAT very nice property for single family 200 hundreds family already living IN THIS SOCIETY and very piece full atmosphere this society 24 hour guards all facility available read more Contact Owner View Phone No. Share Feedback Owner Vivek Gupta',\n",
       " 'DDA Flats Pocket 6 Sector A10, Narela',\n",
       " 'DDA Flats Pocket 1 Sector A9, Narela',\n",
       " 'DDA Janta Flats, Tikri Khurd Sector B2, Narela',\n",
       " 'DDA Lig Flats, Narela',\n",
       " 'DDA Flats Pocket 3, Narela',\n",
       " 'DDA Lig Flats, Narela',\n",
       " 'DDA Lig Flats, Narela',\n",
       " 'DDA Lig Flats, Narela',\n",
       " 'DDA Lig Flats, Narela',\n",
       " 'DDA Flats Pocket 6 Sector A10, Narela',\n",
       " 'DDA Lig Flats, Narela',\n",
       " 'DDA Lig Flats, Narela',\n",
       " 'DDA Lig Flats, Narela',\n",
       " 'DDA Flats Pocket 3, Narela',\n",
       " 'DDA Lig Flats, Narela',\n",
       " 'Shivalik, Malviya Nagar',\n",
       " 'Geetanjali Enclave, Malviya Nagar',\n",
       " 'Geetanjali Enclave, Malviya Nagar',\n",
       " 'Geetanjali Enclave, Malviya Nagar',\n",
       " 'Geetanjali Enclave, Malviya Nagar',\n",
       " 'Geetanjali Enclave Project, Geetanjali Enclave, Malviya Nagar',\n",
       " 'Geetanjali Enclave Project, Geetanjali Enclave, Malviya Nagar',\n",
       " 'Geetanjali Enclave, Malviya Nagar',\n",
       " 'Khirki extension, Malviya Nagar',\n",
       " \"Malviya Nagar carpet area 100 sqyrd status Ready to Move floor 2 out of 3 floors transaction Resale furnishing Semi-Furnished facing North overlooking Garden/Park, Main Road car parking 2 Open bathroom 3 balcony 2 ownership Freehold It's a Corner three story building, located in South Delhi. Amenities like Market, Schools, Hospitals, Parks, Gyms, Study Centers, Temple are all around. Very Close to Malviya Nagar Metro and Haus Khas Metro Station. Centerlize place to live. Whether you go to Gurgaon or Noida Or to other parts of the city, commuting from here is very easy. read more Contact Owner View Phone No. Share Feedback Owner Rohit\",\n",
       " 'Khirki extension, Malviya Nagar',\n",
       " 'Geetanjali Enclave, Malviya Nagar',\n",
       " 'Geetanjali Enclave, Malviya Nagar',\n",
       " 'Geetanjali Enclave, Malviya Nagar',\n",
       " 'Shivalik, Malviya Nagar',\n",
       " 'Shivalik, Malviya Nagar',\n",
       " 'Shivalik, Malviya Nagar',\n",
       " 'Dilshad Colony, Dilshad Garden',\n",
       " 'Dilshad Colony, Dilshad Garden',\n",
       " 'Dilshad Colony, Dilshad Garden',\n",
       " 'Dilshad Colony, Dilshad Garden',\n",
       " 'Dilshad Colony, Dilshad Garden',\n",
       " 'DDA Flats Block A, Dilshad Garden',\n",
       " 'Dilshad Colony, Dilshad Garden',\n",
       " 'DDA Flats Block A, Dilshad Garden',\n",
       " 'Dilshad Colony, Dilshad Garden',\n",
       " 'DDA Pocket JK, Dilshad Garden',\n",
       " 'Dilshad Colony, Dilshad Garden',\n",
       " 'Dilshad Colony, Dilshad Garden',\n",
       " 'Dilshad Colony, Dilshad Garden',\n",
       " 'DDA Pocket E, Dilshad Garden',\n",
       " 'Dilshad Colony, Dilshad Garden',\n",
       " 'Dilshad Colony, Dilshad Garden',\n",
       " 'DDA Flats Pocket O, Dilshad Garden',\n",
       " 'Dilshad Colony, Dilshad Garden',\n",
       " 'Dilshad Colony, Dilshad Garden',\n",
       " 'Dilshad Colony, Dilshad Garden',\n",
       " 'DDA Pocket I, Dilshad Garden',\n",
       " 'DDA Flats Block A, Dilshad Garden',\n",
       " 'Samrat Apartment, Vasundhara Enclave',\n",
       " 'Mangal Apartment, Vasundhara Enclave carpet area 1600 sqft status Ready to Move floor 4 out of 7 floors transaction Resale furnishing Furnished facing South - East overlooking Garden/Park, Main Road society Mangal Apartment car parking 1 Open bathroom 3 balcony 1 ownership Freehold Fully furnished , complete marble flooring, ready to move in. Contact Owner View Phone No. Share Feedback Owner Shailendra',\n",
       " 'Prayag Apartments, Vasundhara Enclave carpet area 900 sqft status Ready to Move floor 2 out of 4 floors transaction Resale furnishing Semi-Furnished overlooking Garden/Park, Main Road society Prayag Apartments car parking 1 Open bathroom 2 balcony 2 ownership Freehold This is 2 BHK apartment , with 2 Bathroom and one parking.This is East facing Flat.Near Metro Station is Ashok Nagar read more Contact Owner View Phone No. Share Feedback Owner Sameer Kumar',\n",
       " 'Abhimanyu Apartments, Vasundhara Enclave',\n",
       " 'Fancy Apartments, Vasundhara Enclave',\n",
       " 'Shantidoot Apartment, Vasundhara Enclave',\n",
       " 'Mangal Apartment, Vasundhara Enclave',\n",
       " 'Satyam Apartment, Vasundhara Enclave',\n",
       " 'Samrat Apartment, Vasundhara Enclave',\n",
       " 'Satyam Apartment, Vasundhara Enclave',\n",
       " 'Abhimanyu Apartments, Vasundhara Enclave',\n",
       " 'Anekant Apartment, Vasundhara Enclave',\n",
       " 'New Delhi Apartment, Vasundhara Enclave',\n",
       " 'Mahesh Apartment, Vasundhara Enclave',\n",
       " 'Pawittra Apartment, Vasundhara Enclave',\n",
       " 'Capital Apartment, Vasundhara Enclave',\n",
       " 'Hindon Apartment, Vasundhara Enclave',\n",
       " 'Gobind Apartment, Vasundhara Enclave',\n",
       " 'Godrej South Estate, Okhla',\n",
       " 'Godrej South Estate, Okhla',\n",
       " 'Abul Fazal Enclave Part 1, Okhla',\n",
       " 'Godrej South Estate, Okhla Phase 1',\n",
       " 'Godrej South Estate, Okhla Phase 1',\n",
       " 'Godrej South Estate, Okhla Phase 1',\n",
       " 'Godrej South Estate, Okhla',\n",
       " 'Abul Fazal Enclave Part-II, Okhla',\n",
       " 'Godrej South Estate, Okhla',\n",
       " 'Abul Fazal Enclave Part 1, Okhla',\n",
       " 'Abul Fazal Enclave Part-II, Okhla',\n",
       " 'Godrej South Estate, Okhla Phase 1',\n",
       " 'Zakir Nagar, New Friends Colony',\n",
       " 'Batla House Project, Batla House, Okhla',\n",
       " 'Abul Fazal Enclave Part 1, Okhla',\n",
       " 'Abul Fazal Enclave Part-II, Okhla',\n",
       " 'The Amaryllis, Karol Bagh',\n",
       " 'The Amaryllis, Karol Bagh',\n",
       " 'The Amaryllis, Karol Bagh',\n",
       " 'The Amaryllis, Karol Bagh',\n",
       " 'Dev Nagar, Karol Bagh',\n",
       " 'Beadon Pura, Karol Bagh How Auctions work? The borrower has the physical possession of the Property. However the lender (Bank) can legally sell the Property. carpet area 148 sqyrd status Ready to Move floor 3 out of 3 floors transaction Resale furnishing Semi-Furnished bathroom 2 balcony 3 ownership Freehold Contact Now Enquire Now Auction By Bank',\n",
       " 'The Amaryllis, Karol Bagh',\n",
       " 'The Amaryllis, Karol Bagh',\n",
       " 'The Amaryllis, Karol Bagh',\n",
       " 'The Amaryllis, Karol Bagh',\n",
       " 'The Amaryllis, Karol Bagh',\n",
       " 'The Amaryllis, Karol Bagh',\n",
       " 'DDA Mig Flat, Prasad Nagar, Karol Bagh',\n",
       " 'The Amaryllis, Karol Bagh',\n",
       " 'Prasad Nagar, Karol Bagh',\n",
       " 'DDA MIG Flats Prasad Nagar Phase 2, Prasad Nagar, Karol Bagh',\n",
       " 'Dev Nagar, Karol Bagh',\n",
       " 'Karol Bagh carpet area 1600 sqft status Ready to Move floor 3 out of 3 floors transaction New Property furnishing Semi-Furnished facing East overlooking Garden/Park, Main Road car parking 1 Covered, 1 Open bathroom 3 balcony 2 ownership Freehold Near to Karol Bagh Metro station...................................... Its a very peaceful location ....................................................................................................................... read more Contact Agent View Phone No. Share Feedback Agent S R B Properties',\n",
       " 'DDA MIG Flats Prasad Nagar Phase 2, Prasad Nagar, Karol Bagh',\n",
       " 'Dev Nagar, Karol Bagh',\n",
       " 'The Amaryllis, Karol Bagh',\n",
       " 'The Amaryllis, Karol Bagh',\n",
       " 'The Amaryllis, Karol Bagh',\n",
       " 'The Amaryllis, Karol Bagh',\n",
       " 'DLF Capital Greens, Moti Nagar, Kirti Nagar ( 1 km from New Moti Nagar, Kirti Nagar)',\n",
       " 'DLF Capital Greens, New Moti Nagar, Kirti Nagar',\n",
       " 'New Moti Nagar, Kirti Nagar',\n",
       " 'New Moti Nagar, Kirti Nagar',\n",
       " 'New Moti Nagar, Kirti Nagar',\n",
       " 'New Moti Nagar, Kirti Nagar',\n",
       " 'DLF Capital Greens, New Moti Nagar, Kirti Nagar',\n",
       " 'DLF Capital Greens, New Moti Nagar, Kirti Nagar',\n",
       " 'DLF Capital Greens, New Moti Nagar, Kirti Nagar',\n",
       " 'DLF Capital Greens, New Moti Nagar, Kirti Nagar',\n",
       " 'New Moti Nagar, Kirti Nagar',\n",
       " 'DLF Capital Greens, New Moti Nagar, Kirti Nagar',\n",
       " 'New Moti Nagar, Kirti Nagar',\n",
       " 'DLF Capital Greens, New Moti Nagar, Kirti Nagar',\n",
       " 'New Moti Nagar, Kirti Nagar',\n",
       " 'DLF Capital Greens, New Moti Nagar, Kirti Nagar',\n",
       " 'DLF Capital Greens, New Moti Nagar, Kirti Nagar',\n",
       " 'New Moti Nagar, Kirti Nagar',\n",
       " 'New Moti Nagar, Kirti Nagar',\n",
       " 'DLF Capital Greens, Moti Nagar, Kirti Nagar ( 1 km from New Moti Nagar, Kirti Nagar)',\n",
       " 'DLF Capital Greens, New Moti Nagar, Kirti Nagar',\n",
       " 'DLF Capital Greens, New Moti Nagar, Kirti Nagar',\n",
       " 'New Moti Nagar, Kirti Nagar',\n",
       " 'DLF Capital Greens, New Moti Nagar, Kirti Nagar',\n",
       " 'DLF Capital Greens, New Moti Nagar, Kirti Nagar',\n",
       " 'New Moti Nagar, Kirti Nagar',\n",
       " 'New Moti Nagar, Kirti Nagar',\n",
       " 'DLF Capital Greens, New Moti Nagar, Kirti Nagar',\n",
       " 'New Moti Nagar, Kirti Nagar',\n",
       " 'New Moti Nagar, Kirti Nagar',\n",
       " 'Savitri Nagar Village, Sheikh Sarai',\n",
       " 'Savitri Nagar Village, Sheikh Sarai',\n",
       " 'Panchsheel Vihar, Sheikh Sarai',\n",
       " 'Savitri Nagar Village, Sheikh Sarai',\n",
       " 'Panchsheel Vihar, Sheikh Sarai',\n",
       " 'Panchsheel Vihar, Sheikh Sarai',\n",
       " 'Savitri Nagar Village, Sheikh Sarai',\n",
       " 'Panchsheel Vihar, Sheikh Sarai',\n",
       " 'Apna Apartments, Savitri Nagar Village, Sheikh Sarai',\n",
       " 'Panchsheel Vihar, Sheikh Sarai',\n",
       " 'Punjabi Bagh Enclave, Punjabi Bagh West',\n",
       " 'Punjabi Bagh Enclave, Shivaji Park, Punjabi Bagh',\n",
       " 'Punjabi Bagh Extension, Punjabi Bagh',\n",
       " 'DLF Capitals Phase III, Shivaji Park, Punjabi Bagh',\n",
       " 'Punjabi Bagh Enclave, Punjabi Bagh West',\n",
       " 'Punjabi Bagh Enclave, Punjabi Bagh',\n",
       " 'Punjabi Bagh Extension, Punjabi Bagh',\n",
       " 'Punjabi Bagh Extension, Punjabi Bagh',\n",
       " 'Punjabi Bagh Extension, Punjabi Bagh',\n",
       " 'Punjabi Bagh Enclave, Madipur, Punjabi Bagh',\n",
       " 'Bhagwan Das Nagar, Punjabi Bagh',\n",
       " 'Bhagwan Das Nagar, Punjabi Bagh',\n",
       " 'Pal Mohan Apartments, Punjabi Bagh',\n",
       " 'Shivalik Apartments, Alaknanda',\n",
       " 'Narmada Apartment, Alaknanda',\n",
       " 'Gangotri Enclave, Alaknanda',\n",
       " 'Aravali Apartments, Alaknanda',\n",
       " 'Narmada Apartment, Alaknanda',\n",
       " 'Aravali Apartments, Alaknanda',\n",
       " 'Shivalik Apartments, Alaknanda',\n",
       " 'Narmada Apartment, Alaknanda',\n",
       " 'Tara Apartment, Alaknanda',\n",
       " 'Narmada Apartment, Alaknanda',\n",
       " 'Narmada Apartment, Alaknanda carpet area 1400 sqft status Ready to Move floor Ground out of 3 floors transaction Resale furnishing Furnished facing North - East overlooking Garden/Park, Main Road society Narmada Apartment car parking 1 Open bathroom 3 balcony 1 ownership Freehold Near Alaknanda Main Market & Greater Kailash Metro Station. A very good 3 bhk flat for sale in rwa Narmada Apartment, delhi south. It is a superb property and offers an excellent view. The flat is unfurnished. It promises a comfortable stay. It is feng shuivaastu compliant, which is considered to bring positive energy. The appeal of the flat has been increased with the availability of a pipedGa. Indeed, the society too has multiple facilities for enjoyment, such as club housecommunity center and fitness centregym etc. It also has rain water harvesting system. It has a super builtUp area of 180 sq. Yards. read more Contact Agent View Phone No. Share Feedback Agent Sulabh Estate',\n",
       " 'Greater Kailash 4 Nri Colony',\n",
       " 'Project Gangotri Enclave, Alaknanda',\n",
       " 'Project Gangotri Enclave, Gangotri Enclave, Alaknanda',\n",
       " 'Narmada Apartment, Alaknanda',\n",
       " 'Nilgiri Apartment, Alaknanda',\n",
       " 'Yamuna Apartment, Alaknanda',\n",
       " 'Nilgiri Apartment, Alaknanda',\n",
       " 'Nilgiri Apartment, Alaknanda',\n",
       " 'Tara Apartment, Alaknanda carpet area 1400 sqft status Ready to Move floor 2 out of 3 floors transaction Resale furnishing Furnished facing North - East overlooking Garden/Park society Tara Apartment car parking 1 Covered, 1 Open bathroom 3 balcony 4 ownership Freehold Near Alaknanda Main Market, Jamia Humderd University & Batra hospital. A very good 3 bhk flat for sale in rwa Tara Apartment, delhi south. It is a superb property and offers an excellent view. The flat is unfurnished. It promises a comfortable stay. It is feng shuivaastu compliant, which is considered to bring positive energy. The appeal of the flat has been increased with the availability of a pipedGa. Indeed, the society too has multiple facilities for enjoyment, such as club housecommunity center and fitness centregym etc. It also has rain water harvesting system. It has a super builtUp area of 180 sq. Yards. Other f read more Contact Agent View Phone No. Share Feedback Agent Sulabh Estate',\n",
       " 'Govindpuri Extension, Kalkaji',\n",
       " 'Govindpuri Extension, Kalkaji',\n",
       " 'Govindpuri Extension, Kalkaji',\n",
       " 'Govindpuri Extension, Kalkaji',\n",
       " 'DDA LIG Flat, Kalkaji',\n",
       " 'Govindpuri Extension, Kalkaji',\n",
       " 'Govindpuri Extension, Kalkaji',\n",
       " 'Govindpuri Extension, Kalkaji',\n",
       " 'Rishi Apartment, Kalkaji',\n",
       " 'Deshbandhu Apartments, Kalkaji',\n",
       " 'Dda Janta Flats, Kalkaji',\n",
       " 'Kalkaji super area 800 sqft status Ready to Move floor 3 out of 4 floors transaction Resale furnishing Semi-Furnished facing North - West overlooking Garden/Park, Main Road car parking 1 Open bathroom 2 balcony 2 ownership Freehold 2 bhk flat for sale in kalkaji this is third floor with 2 bed room and bathrooms very peace full location and posh. The Summer Fields School is considered as among the best school of New Delhi and is located just beside to this property. Within the range of 4-5km, you will find some of the well-equipped hospitals which include AIMS Hospital and Moolchand Hospital.for more information about this flat please call me feel free. read more Contact Agent View Phone No. Share Feedback Agent Rose Estate 100+ Buyers Served',\n",
       " 'Deshbandhu Apartments, Kalkaji',\n",
       " 'Govindpuri Extension, Kalkaji',\n",
       " 'Kalkaji super area 1000 sqft status Ready to Move floor 2 out of 3 floors transaction Resale furnishing Semi-Furnished facing North - West overlooking Garden/Park, Main Road car parking 1 Covered, 1 Open bathroom 2 balcony 2 ownership Freehold Very beautiful 3 bedroom with attached washroom , drawing dining , modular kitchen , ac , servant room , power backup, powder room, separate underground and overhead water tanks, walking distance to market , easy access to ring road . For more details and site visit please contact cosmo properties. read more Contact Agent View Phone No. Share Feedback Agent Zee Associates',\n",
       " 'Mandakini Enclave Project, Kalkaji',\n",
       " 'Deshbandhu Apartments, Kalkaji carpet area 1300 sqft status Ready to Move floor 3 out of 4 floors transaction Resale furnishing Unfurnished facing North - East overlooking Garden/Park, Main Road society Deshbandhu Apartments car parking 1 Covered, 1 Open bathroom 2 balcony 2 ownership Freehold Third Floor with terrace 3 bhk builder floor apartment with 2 attached bathrooms located in kalkaji Deshbandu apartment . all water and electrical connections installed, very spacious drawing room , 2 balconies in front and rear each dedicated parking spot for 1 car. extra parking space available for additional cars, Immediately for sale , read more Contact Agent View Phone No. Share Feedback Agent Bhawani Realtors',\n",
       " 'Deshbandhu Apartments, Kalkaji',\n",
       " 'Govindpuri Extension, Kalkaji',\n",
       " 'Hauz Khas Apartment, Hauz Khas Enclave, Hauz Khas',\n",
       " 'Sarva Priya Apartment, Hauz Khas',\n",
       " 'Hauz Khas Enclave, Hauz Khas',\n",
       " 'Safdarjung Development Area, Hauz Khas',\n",
       " 'Hauz Khas Enclave, Hauz Khas',\n",
       " 'Mayfair garden, Hauz Khas',\n",
       " 'Orchid Metropolis, Hauz Khas',\n",
       " 'Safdarjung Development Area, Hauz Khas',\n",
       " 'Hauz Khas Enclave, Hauz Khas',\n",
       " 'Hauz Khas Enclave, Hauz Khas',\n",
       " 'Sarva Priya Apartment, Hauz Khas carpet area 1700 sqft status Ready to Move floor 1 out of 7 floors transaction Resale furnishing Semi-Furnished facing North - East overlooking Garden/Park society Sarva Priya Apartment car parking 1 Covered, 1 Open bathroom 3 balcony 2 ownership Freehold desperarte sale ,its clear tile, proper cross ventilation ,proper an matter for one week ,crystle sunlight found, and air,ICIC BANK LOAN APPROVAL, good to see , have lucky chance to get such a reraly rare property read more Contact Agent View Phone No. Share Feedback Agent New Capital Properties 1000+ Buyers Served',\n",
       " 'Hauz Khas Enclave, Hauz Khas',\n",
       " 'Sarva Priya Apartment, Hauz Khas',\n",
       " 'Hauz Khas Enclave, Hauz Khas',\n",
       " 'Hauz Khas Enclave, Hauz Khas',\n",
       " 'Safdarjung Development Area, Hauz Khas',\n",
       " 'Hauz Khas Enclave, Hauz Khas',\n",
       " 'Safdarjung Development Area, Hauz Khas',\n",
       " 'Arya Chittaranjan Park, Chittaranjan Park',\n",
       " 'Chittaranjan Park carpet area 1200 sqft status Ready to Move floor 2 out of 4 floors transaction New Property furnishing Semi-Furnished facing North - East overlooking Garden/Park bathroom 3 balcony 2 ownership Freehold Newly Constructed Property Newly Constructed Property brand new 1st floor 3bedroom attach bathrooms stilt car parking modular kitchen air condition prime location c r park read more Contact Agent View Phone No. Share Feedback Nirmala Associates Certified Agent Trusted by Users Genuine Listings 1500+ Buyers Served',\n",
       " 'Chittaranjan Park carpet area 270 sqyrd status Ready to Move floor 2 out of 4 floors transaction Resale furnishing Furnished facing North - East overlooking Garden/Park, Main Road car parking 5 Open bathroom 4 balcony 3 ownership Freehold 3 Side Open, Fully ventilated, Close to Market, Above Bank and 24 x 7 ATM because of which good security. Elite Neighbor hood. Very good for Rental Income. Also can be used for commercial Office Purpose by Advocates. read more Contact Owner View Phone No. Share Feedback Owner Mayur Mayur Aggarwal',\n",
       " 'Nehru Enclave, Kalkaji',\n",
       " 'Nehru Enclave, Kalkaji',\n",
       " 'Chittaranjan Park Block A']"
      ]
     },
     "execution_count": 272,
     "metadata": {},
     "output_type": "execute_result"
    }
   ],
   "source": [
    "a"
   ]
  },
  {
   "cell_type": "code",
   "execution_count": 273,
   "id": "0ade08d6",
   "metadata": {},
   "outputs": [],
   "source": [
    "df = df[~df['Locality'].isin(a)]"
   ]
  },
  {
   "cell_type": "code",
   "execution_count": 274,
   "id": "440da8a1",
   "metadata": {},
   "outputs": [
    {
     "data": {
      "text/plain": [
       "(514, 11)"
      ]
     },
     "execution_count": 274,
     "metadata": {},
     "output_type": "execute_result"
    }
   ],
   "source": [
    "df.shape"
   ]
  },
  {
   "cell_type": "code",
   "execution_count": 275,
   "id": "c7429e7c",
   "metadata": {},
   "outputs": [],
   "source": [
    "pd.set_option('display.max_rows', None)"
   ]
  },
  {
   "cell_type": "code",
   "execution_count": 276,
   "id": "6e8f8725",
   "metadata": {},
   "outputs": [
    {
     "data": {
      "text/plain": [
       "0     Rohini Sector 25\n",
       "3     Rohini Sector 24\n",
       "5     Rohini Sector 24\n",
       "6     Rohini Sector 24\n",
       "8     Rohini Sector 21\n",
       "9     Rohini Sector 22\n",
       "10    Rohini Sector 20\n",
       "11    Rohini Sector 25\n",
       "12    Rohini Sector 24\n",
       "13    Rohini Sector 24\n",
       "Name: Locality, dtype: object"
      ]
     },
     "execution_count": 276,
     "metadata": {},
     "output_type": "execute_result"
    }
   ],
   "source": [
    "df.Locality.head(10)"
   ]
  },
  {
   "cell_type": "code",
   "execution_count": 277,
   "id": "c1c9a9df",
   "metadata": {
    "scrolled": false
   },
   "outputs": [
    {
     "data": {
      "text/plain": [
       "count    514.000000   \n",
       "mean     15141.838191 \n",
       "std      20769.663748 \n",
       "min      1259.000000  \n",
       "25%      6154.000000  \n",
       "50%      11905.000000 \n",
       "75%      17661.752500 \n",
       "max      183333.000000\n",
       "Name: Per_Sqft, dtype: float64"
      ]
     },
     "execution_count": 277,
     "metadata": {},
     "output_type": "execute_result"
    }
   ],
   "source": [
    "df.Per_Sqft.describe()"
   ]
  },
  {
   "cell_type": "markdown",
   "id": "17f0c119",
   "metadata": {},
   "source": [
    "# Removing Outliers based on price per square ft."
   ]
  },
  {
   "cell_type": "code",
   "execution_count": 278,
   "id": "22a0e5ab",
   "metadata": {},
   "outputs": [
    {
     "data": {
      "text/plain": [
       "(444, 11)"
      ]
     },
     "execution_count": 278,
     "metadata": {},
     "output_type": "execute_result"
    }
   ],
   "source": [
    "def remove_pps_outliers(df2):\n",
    "    df_out = pd.DataFrame()\n",
    "    for key, subdf in df.groupby('Locality'):\n",
    "        m = np.mean(subdf.Per_Sqft)\n",
    "        st = np.std(subdf.Per_Sqft)\n",
    "        reduced_df = subdf[(subdf.Per_Sqft>(m-2*st)) & (subdf.Per_Sqft<=(m+2*st))]\n",
    "        df_out = pd.concat([df_out,reduced_df],ignore_index=True)\n",
    "    return df_out\n",
    "df1 = remove_pps_outliers(df)\n",
    "df1.shape"
   ]
  },
  {
   "cell_type": "code",
   "execution_count": 279,
   "id": "20a315ed",
   "metadata": {},
   "outputs": [
    {
     "data": {
      "text/plain": [
       "count    514.000000  \n",
       "mean     1500.027085 \n",
       "std      2053.445591 \n",
       "min      28.000000   \n",
       "25%      800.000000  \n",
       "50%      1100.000000 \n",
       "75%      1630.000000 \n",
       "max      24300.000000\n",
       "Name: Area, dtype: float64"
      ]
     },
     "execution_count": 279,
     "metadata": {},
     "output_type": "execute_result"
    }
   ],
   "source": [
    "df.Area.describe()"
   ]
  },
  {
   "cell_type": "code",
   "execution_count": 280,
   "id": "c7d934bc",
   "metadata": {},
   "outputs": [],
   "source": [
    "df1 = df1[~(df1.Area/df1.BHK < 100)]"
   ]
  },
  {
   "cell_type": "code",
   "execution_count": 281,
   "id": "ac0edb18",
   "metadata": {
    "scrolled": true
   },
   "outputs": [
    {
     "data": {
      "text/plain": [
       "(438, 11)"
      ]
     },
     "execution_count": 281,
     "metadata": {},
     "output_type": "execute_result"
    }
   ],
   "source": [
    "df1.shape"
   ]
  },
  {
   "cell_type": "code",
   "execution_count": 282,
   "id": "66c3235b",
   "metadata": {},
   "outputs": [
    {
     "data": {
      "text/plain": [
       "46"
      ]
     },
     "execution_count": 282,
     "metadata": {},
     "output_type": "execute_result"
    }
   ],
   "source": [
    "df1.Locality = df1.Locality.apply(lambda x: x.strip())\n",
    "Locality_stats = df1['Locality'].value_counts(ascending=False)\n",
    "Locality_stats.count()"
   ]
  },
  {
   "cell_type": "code",
   "execution_count": 283,
   "id": "1dd29384",
   "metadata": {},
   "outputs": [
    {
     "data": {
      "text/plain": [
       "Lajpat Nagar 2          31\n",
       "Lajpat Nagar 3          29\n",
       "Chittaranjan Park       22\n",
       "Laxmi Nagar             21\n",
       "Saket                   21\n",
       "Mehrauli                20\n",
       "Alaknanda               16\n",
       "Chhattarpur             15\n",
       "Patel Nagar West        15\n",
       "Sheikh Sarai Phase 1    15\n",
       "New Friends Colony      14\n",
       "Safdarjung Enclave      14\n",
       "Sukhdev Vihar, Okhla    11\n",
       "Malviya Nagar           11\n",
       "Vasundhara Enclave      10\n",
       "Rohini Sector 24        10\n",
       "Mahavir Enclave         10\n",
       "Vasant Kunj             10\n",
       "Hauz Khas               10\n",
       "Narela                  9 \n",
       "Uttam Nagar             8 \n",
       "Punjabi Bagh West       8 \n",
       "Paschim Vihar           7 \n",
       "Lajpat Nagar            7 \n",
       "Sultanpur               7 \n",
       "Budh Vihar              7 \n",
       "Kalkaji                 7 \n",
       "Shahdara                7 \n",
       "Budh Vihar Phase 1      6 \n",
       "Karol Bagh              5 \n",
       "Dilshad Garden          5 \n",
       "Uttam Nagar West        5 \n",
       "Sultanpur Extension     4 \n",
       "Punjabi Bagh            4 \n",
       "Rohini Sector 20        4 \n",
       "Lajpat Nagar 1          4 \n",
       "Dwarka Mor              4 \n",
       "Greater Kailash 1       4 \n",
       "Vasant Kunj Sector C    3 \n",
       "Rohini Sector 25        3 \n",
       "RWA Flats, Saket        3 \n",
       "Kalkaji Extention       3 \n",
       "Rohini Sector 22        3 \n",
       "Lajpat Nagar 4          2 \n",
       "Sheikh Sarai Phase 2    2 \n",
       "Batla House, Okhla      2 \n",
       "Name: Locality, dtype: int64"
      ]
     },
     "execution_count": 283,
     "metadata": {},
     "output_type": "execute_result"
    }
   ],
   "source": [
    "Locality_stats"
   ]
  },
  {
   "cell_type": "code",
   "execution_count": 284,
   "id": "e5dbca56",
   "metadata": {},
   "outputs": [
    {
     "data": {
      "image/png": "[encoded data removed]",
      "text/plain": [
       "<Figure size 1080x720 with 1 Axes>"
      ]
     },
     "metadata": {
      "needs_background": "light"
     },
     "output_type": "display_data"
    }
   ],
   "source": [
    "def plot_scatter_chart(df,Locality):\n",
    "    bhk2 = df[(df.Locality==Locality) & (df.BHK==2)]\n",
    "    bhk3 = df[(df.Locality==Locality) & (df.BHK==3)]\n",
    "    matplotlib.rcParams['figure.figsize'] = (15,10)\n",
    "    plt.scatter(bhk2.Area,bhk2.Price,color='blue',label='2 BHK', s=50)\n",
    "    plt.scatter(bhk3.Area,bhk3.Price,marker='+', color='green',label='3 BHK', s=50)\n",
    "    plt.xlabel(\"Total Square Feet Area\")\n",
    "    plt.ylabel(\"Price (Lakha Indian Rupees)\")\n",
    "    plt.title(Locality)\n",
    "    plt.legend()\n",
    "    \n",
    "plot_scatter_chart(df1,\"Lajpat Nagar 2\")"
   ]
  },
  {
   "cell_type": "markdown",
   "id": "40df6a4d",
   "metadata": {},
   "source": [
    "- There are no Locality where 3 BHK is price is less than 2 BHK"
   ]
  },
  {
   "cell_type": "code",
   "execution_count": 285,
   "id": "a5edb523",
   "metadata": {
    "scrolled": true
   },
   "outputs": [
    {
     "data": {
      "text/plain": [
       "Text(0, 0.5, 'Count')"
      ]
     },
     "execution_count": 285,
     "metadata": {},
     "output_type": "execute_result"
    },
    {
     "data": {
      "image/png": "[encoded data removed]",
      "text/plain": [
       "<Figure size 1440x720 with 1 Axes>"
      ]
     },
     "metadata": {
      "needs_background": "light"
     },
     "output_type": "display_data"
    }
   ],
   "source": [
    "import matplotlib\n",
    "matplotlib.rcParams[\"figure.figsize\"] = (20,10)\n",
    "plt.hist(df1.Per_Sqft,rwidth=0.8)\n",
    "plt.xlabel(\"Price Per Square Feet\")\n",
    "plt.ylabel(\"Count\")"
   ]
  },
  {
   "cell_type": "markdown",
   "id": "e413021a",
   "metadata": {},
   "source": [
    "# One hot encoding for location"
   ]
  },
  {
   "cell_type": "code",
   "execution_count": 286,
   "id": "9b0eb249",
   "metadata": {},
   "outputs": [
    {
     "data": {
      "text/html": [
       "<div>\n",
       "<style scoped>\n",
       "    .dataframe tbody tr th:only-of-type {\n",
       "        vertical-align: middle;\n",
       "    }\n",
       "\n",
       "    .dataframe tbody tr th {\n",
       "        vertical-align: top;\n",
       "    }\n",
       "\n",
       "    .dataframe thead th {\n",
       "        text-align: right;\n",
       "    }\n",
       "</style>\n",
       "<table border=\"1\" class=\"dataframe\">\n",
       "  <thead>\n",
       "    <tr style=\"text-align: right;\">\n",
       "      <th></th>\n",
       "      <th>Alaknanda</th>\n",
       "      <th>Batla House, Okhla</th>\n",
       "      <th>Budh Vihar</th>\n",
       "      <th>Budh Vihar Phase 1</th>\n",
       "      <th>Chhattarpur</th>\n",
       "      <th>Chittaranjan Park</th>\n",
       "      <th>Dilshad Garden</th>\n",
       "      <th>Dwarka Mor</th>\n",
       "      <th>Greater Kailash 1</th>\n",
       "      <th>Hauz Khas</th>\n",
       "      <th>...</th>\n",
       "      <th>Sheikh Sarai Phase 1</th>\n",
       "      <th>Sheikh Sarai Phase 2</th>\n",
       "      <th>Sukhdev Vihar, Okhla</th>\n",
       "      <th>Sultanpur</th>\n",
       "      <th>Sultanpur Extension</th>\n",
       "      <th>Uttam Nagar</th>\n",
       "      <th>Uttam Nagar West</th>\n",
       "      <th>Vasant Kunj</th>\n",
       "      <th>Vasant Kunj Sector C</th>\n",
       "      <th>Vasundhara Enclave</th>\n",
       "    </tr>\n",
       "  </thead>\n",
       "  <tbody>\n",
       "    <tr>\n",
       "      <th>0</th>\n",
       "      <td>1</td>\n",
       "      <td>0</td>\n",
       "      <td>0</td>\n",
       "      <td>0</td>\n",
       "      <td>0</td>\n",
       "      <td>0</td>\n",
       "      <td>0</td>\n",
       "      <td>0</td>\n",
       "      <td>0</td>\n",
       "      <td>0</td>\n",
       "      <td>...</td>\n",
       "      <td>0</td>\n",
       "      <td>0</td>\n",
       "      <td>0</td>\n",
       "      <td>0</td>\n",
       "      <td>0</td>\n",
       "      <td>0</td>\n",
       "      <td>0</td>\n",
       "      <td>0</td>\n",
       "      <td>0</td>\n",
       "      <td>0</td>\n",
       "    </tr>\n",
       "    <tr>\n",
       "      <th>1</th>\n",
       "      <td>1</td>\n",
       "      <td>0</td>\n",
       "      <td>0</td>\n",
       "      <td>0</td>\n",
       "      <td>0</td>\n",
       "      <td>0</td>\n",
       "      <td>0</td>\n",
       "      <td>0</td>\n",
       "      <td>0</td>\n",
       "      <td>0</td>\n",
       "      <td>...</td>\n",
       "      <td>0</td>\n",
       "      <td>0</td>\n",
       "      <td>0</td>\n",
       "      <td>0</td>\n",
       "      <td>0</td>\n",
       "      <td>0</td>\n",
       "      <td>0</td>\n",
       "      <td>0</td>\n",
       "      <td>0</td>\n",
       "      <td>0</td>\n",
       "    </tr>\n",
       "    <tr>\n",
       "      <th>2</th>\n",
       "      <td>1</td>\n",
       "      <td>0</td>\n",
       "      <td>0</td>\n",
       "      <td>0</td>\n",
       "      <td>0</td>\n",
       "      <td>0</td>\n",
       "      <td>0</td>\n",
       "      <td>0</td>\n",
       "      <td>0</td>\n",
       "      <td>0</td>\n",
       "      <td>...</td>\n",
       "      <td>0</td>\n",
       "      <td>0</td>\n",
       "      <td>0</td>\n",
       "      <td>0</td>\n",
       "      <td>0</td>\n",
       "      <td>0</td>\n",
       "      <td>0</td>\n",
       "      <td>0</td>\n",
       "      <td>0</td>\n",
       "      <td>0</td>\n",
       "    </tr>\n",
       "  </tbody>\n",
       "</table>\n",
       "<p>3 rows × 46 columns</p>\n",
       "</div>"
      ],
      "text/plain": [
       "   Alaknanda  Batla House, Okhla  Budh Vihar  Budh Vihar Phase 1  Chhattarpur  \\\n",
       "0  1          0                   0           0                   0             \n",
       "1  1          0                   0           0                   0             \n",
       "2  1          0                   0           0                   0             \n",
       "\n",
       "   Chittaranjan Park  Dilshad Garden  Dwarka Mor  Greater Kailash 1  \\\n",
       "0  0                  0               0           0                   \n",
       "1  0                  0               0           0                   \n",
       "2  0                  0               0           0                   \n",
       "\n",
       "   Hauz Khas  ...  Sheikh Sarai Phase 1  Sheikh Sarai Phase 2  \\\n",
       "0  0          ...  0                     0                      \n",
       "1  0          ...  0                     0                      \n",
       "2  0          ...  0                     0                      \n",
       "\n",
       "   Sukhdev Vihar, Okhla  Sultanpur  Sultanpur Extension  Uttam Nagar  \\\n",
       "0  0                     0          0                    0             \n",
       "1  0                     0          0                    0             \n",
       "2  0                     0          0                    0             \n",
       "\n",
       "   Uttam Nagar West  Vasant Kunj  Vasant Kunj Sector C  Vasundhara Enclave  \n",
       "0  0                 0            0                     0                   \n",
       "1  0                 0            0                     0                   \n",
       "2  0                 0            0                     0                   \n",
       "\n",
       "[3 rows x 46 columns]"
      ]
     },
     "execution_count": 286,
     "metadata": {},
     "output_type": "execute_result"
    }
   ],
   "source": [
    "dummies = pd.get_dummies(df1.Locality)\n",
    "dummies.head(3)"
   ]
  },
  {
   "cell_type": "code",
   "execution_count": 287,
   "id": "87392b6c",
   "metadata": {},
   "outputs": [],
   "source": [
    "df2 = df1.drop(['Locality','Per_Sqft'], axis = 1)"
   ]
  },
  {
   "cell_type": "code",
   "execution_count": 288,
   "id": "e300156a",
   "metadata": {},
   "outputs": [
    {
     "data": {
      "text/html": [
       "<div>\n",
       "<style scoped>\n",
       "    .dataframe tbody tr th:only-of-type {\n",
       "        vertical-align: middle;\n",
       "    }\n",
       "\n",
       "    .dataframe tbody tr th {\n",
       "        vertical-align: top;\n",
       "    }\n",
       "\n",
       "    .dataframe thead th {\n",
       "        text-align: right;\n",
       "    }\n",
       "</style>\n",
       "<table border=\"1\" class=\"dataframe\">\n",
       "  <thead>\n",
       "    <tr style=\"text-align: right;\">\n",
       "      <th></th>\n",
       "      <th>Area</th>\n",
       "      <th>BHK</th>\n",
       "      <th>Bathroom</th>\n",
       "      <th>Furnishing</th>\n",
       "      <th>Parking</th>\n",
       "      <th>Price</th>\n",
       "      <th>Status</th>\n",
       "      <th>Transaction</th>\n",
       "      <th>Type</th>\n",
       "    </tr>\n",
       "  </thead>\n",
       "  <tbody>\n",
       "    <tr>\n",
       "      <th>0</th>\n",
       "      <td>1400.0</td>\n",
       "      <td>3</td>\n",
       "      <td>2.0</td>\n",
       "      <td>3</td>\n",
       "      <td>1.0</td>\n",
       "      <td>19000000</td>\n",
       "      <td>1</td>\n",
       "      <td>2</td>\n",
       "      <td>2</td>\n",
       "    </tr>\n",
       "    <tr>\n",
       "      <th>1</th>\n",
       "      <td>1100.0</td>\n",
       "      <td>2</td>\n",
       "      <td>2.0</td>\n",
       "      <td>3</td>\n",
       "      <td>2.0</td>\n",
       "      <td>15000000</td>\n",
       "      <td>1</td>\n",
       "      <td>2</td>\n",
       "      <td>2</td>\n",
       "    </tr>\n",
       "    <tr>\n",
       "      <th>2</th>\n",
       "      <td>1200.0</td>\n",
       "      <td>2</td>\n",
       "      <td>2.0</td>\n",
       "      <td>1</td>\n",
       "      <td>2.0</td>\n",
       "      <td>17500000</td>\n",
       "      <td>1</td>\n",
       "      <td>2</td>\n",
       "      <td>2</td>\n",
       "    </tr>\n",
       "    <tr>\n",
       "      <th>3</th>\n",
       "      <td>1400.0</td>\n",
       "      <td>2</td>\n",
       "      <td>2.0</td>\n",
       "      <td>1</td>\n",
       "      <td>2.0</td>\n",
       "      <td>14000000</td>\n",
       "      <td>1</td>\n",
       "      <td>2</td>\n",
       "      <td>2</td>\n",
       "    </tr>\n",
       "    <tr>\n",
       "      <th>4</th>\n",
       "      <td>1320.0</td>\n",
       "      <td>3</td>\n",
       "      <td>2.0</td>\n",
       "      <td>3</td>\n",
       "      <td>2.0</td>\n",
       "      <td>15600000</td>\n",
       "      <td>1</td>\n",
       "      <td>2</td>\n",
       "      <td>2</td>\n",
       "    </tr>\n",
       "  </tbody>\n",
       "</table>\n",
       "</div>"
      ],
      "text/plain": [
       "     Area  BHK  Bathroom  Furnishing  Parking     Price  Status  Transaction  \\\n",
       "0  1400.0  3    2.0       3           1.0      19000000  1       2             \n",
       "1  1100.0  2    2.0       3           2.0      15000000  1       2             \n",
       "2  1200.0  2    2.0       1           2.0      17500000  1       2             \n",
       "3  1400.0  2    2.0       1           2.0      14000000  1       2             \n",
       "4  1320.0  3    2.0       3           2.0      15600000  1       2             \n",
       "\n",
       "   Type  \n",
       "0  2     \n",
       "1  2     \n",
       "2  2     \n",
       "3  2     \n",
       "4  2     "
      ]
     },
     "execution_count": 288,
     "metadata": {},
     "output_type": "execute_result"
    }
   ],
   "source": [
    "df2.head()"
   ]
  },
  {
   "cell_type": "code",
   "execution_count": 289,
   "id": "5375d081",
   "metadata": {},
   "outputs": [
    {
     "data": {
      "text/plain": [
       "(438, 55)"
      ]
     },
     "execution_count": 289,
     "metadata": {},
     "output_type": "execute_result"
    }
   ],
   "source": [
    "df3 = pd.concat([df2, dummies], axis = 1)\n",
    "df3.shape"
   ]
  },
  {
   "cell_type": "markdown",
   "id": "a4a7fec4",
   "metadata": {},
   "source": [
    "# Building Model"
   ]
  },
  {
   "cell_type": "code",
   "execution_count": 290,
   "id": "8b45f9b9",
   "metadata": {},
   "outputs": [],
   "source": [
    "X = df3.drop('Price', axis = 1)"
   ]
  },
  {
   "cell_type": "code",
   "execution_count": 291,
   "id": "f2352ad2",
   "metadata": {},
   "outputs": [],
   "source": [
    "y = df3.Price"
   ]
  },
  {
   "cell_type": "code",
   "execution_count": 292,
   "id": "449e1e2f",
   "metadata": {},
   "outputs": [],
   "source": [
    "from sklearn.linear_model import LinearRegression"
   ]
  },
  {
   "cell_type": "code",
   "execution_count": 301,
   "id": "1d963920",
   "metadata": {},
   "outputs": [
    {
     "data": {
      "text/plain": [
       "array([0.42751428, 0.53560173, 0.57312075, 0.71906394, 0.16104175,\n",
       "       0.60706665, 0.57550849, 0.64720029, 0.2481922 , 0.38155903])"
      ]
     },
     "execution_count": 301,
     "metadata": {},
     "output_type": "execute_result"
    }
   ],
   "source": [
    "from sklearn.model_selection import ShuffleSplit\n",
    "from sklearn.model_selection import cross_val_score\n",
    "\n",
    "cv = ShuffleSplit(n_splits=10, test_size=0.2, random_state=0)\n",
    "\n",
    "cross_val_score(LinearRegression(), X, y, cv=cv)"
   ]
  },
  {
   "cell_type": "code",
   "execution_count": 297,
   "id": "5ac15dfa",
   "metadata": {},
   "outputs": [
    {
     "name": "stderr",
     "output_type": "stream",
     "text": [
      "C:\\Users\\arkarmak\\AppData\\Local\\Temp\\ipykernel_1012\\3652881321.py:1: FutureWarning: Passing a negative integer is deprecated in version 1.0 and will not be supported in future version. Instead, use None to not limit the column width.\n",
      "  pd.set_option('display.max_colwidth', -1)\n"
     ]
    }
   ],
   "source": [
    "pd.set_option('display.max_colwidth', -1)"
   ]
  },
  {
   "cell_type": "code",
   "execution_count": 308,
   "id": "93cd46a8",
   "metadata": {},
   "outputs": [
    {
     "name": "stderr",
     "output_type": "stream",
     "text": [
      "C:\\Users\\arkarmak\\Anaconda3\\lib\\site-packages\\sklearn\\linear_model\\_coordinate_descent.py:530: ConvergenceWarning: Objective did not converge. You might want to increase the number of iterations. Duality gap: 3.5486582948534976e+16, tolerance: 2381305558860000.0\n",
      "  model = cd_fast.enet_coordinate_descent(\n",
      "C:\\Users\\arkarmak\\Anaconda3\\lib\\site-packages\\sklearn\\linear_model\\_coordinate_descent.py:530: ConvergenceWarning: Objective did not converge. You might want to increase the number of iterations. Duality gap: 2.6668450869408304e+16, tolerance: 1929034363854286.0\n",
      "  model = cd_fast.enet_coordinate_descent(\n",
      "C:\\Users\\arkarmak\\Anaconda3\\lib\\site-packages\\sklearn\\linear_model\\_coordinate_descent.py:530: ConvergenceWarning: Objective did not converge. You might want to increase the number of iterations. Duality gap: 3.6881436435625304e+16, tolerance: 2399837475874286.0\n",
      "  model = cd_fast.enet_coordinate_descent(\n",
      "C:\\Users\\arkarmak\\Anaconda3\\lib\\site-packages\\sklearn\\linear_model\\_coordinate_descent.py:530: ConvergenceWarning: Objective did not converge. You might want to increase the number of iterations. Duality gap: 3.4009738082874788e+16, tolerance: 2433127727714286.0\n",
      "  model = cd_fast.enet_coordinate_descent(\n",
      "C:\\Users\\arkarmak\\Anaconda3\\lib\\site-packages\\sklearn\\linear_model\\_coordinate_descent.py:530: ConvergenceWarning: Objective did not converge. You might want to increase the number of iterations. Duality gap: 3.6323229321274536e+16, tolerance: 2426475595714285.0\n",
      "  model = cd_fast.enet_coordinate_descent(\n",
      "C:\\Users\\arkarmak\\Anaconda3\\lib\\site-packages\\sklearn\\linear_model\\_coordinate_descent.py:530: ConvergenceWarning: Objective did not converge. You might want to increase the number of iterations. Duality gap: 3.627223762282452e+16, tolerance: 2438146051454286.0\n",
      "  model = cd_fast.enet_coordinate_descent(\n",
      "C:\\Users\\arkarmak\\Anaconda3\\lib\\site-packages\\sklearn\\linear_model\\_coordinate_descent.py:530: ConvergenceWarning: Objective did not converge. You might want to increase the number of iterations. Duality gap: 3.486317398192348e+16, tolerance: 2412936002174285.5\n",
      "  model = cd_fast.enet_coordinate_descent(\n",
      "C:\\Users\\arkarmak\\Anaconda3\\lib\\site-packages\\sklearn\\linear_model\\_coordinate_descent.py:530: ConvergenceWarning: Objective did not converge. You might want to increase the number of iterations. Duality gap: 2.600045294155448e+16, tolerance: 1839401032388572.0\n",
      "  model = cd_fast.enet_coordinate_descent(\n",
      "C:\\Users\\arkarmak\\Anaconda3\\lib\\site-packages\\sklearn\\linear_model\\_coordinate_descent.py:530: ConvergenceWarning: Objective did not converge. You might want to increase the number of iterations. Duality gap: 2.8069583340059172e+16, tolerance: 200924943571714.28\n",
      "  model = cd_fast.enet_coordinate_descent(\n",
      "C:\\Users\\arkarmak\\Anaconda3\\lib\\site-packages\\sklearn\\linear_model\\_coordinate_descent.py:530: ConvergenceWarning: Objective did not converge. You might want to increase the number of iterations. Duality gap: 3.5538308174281136e+16, tolerance: 238130555886000.0\n",
      "  model = cd_fast.enet_coordinate_descent(\n",
      "C:\\Users\\arkarmak\\Anaconda3\\lib\\site-packages\\sklearn\\linear_model\\_coordinate_descent.py:530: ConvergenceWarning: Objective did not converge. You might want to increase the number of iterations. Duality gap: 3.534531876475385e+16, tolerance: 239983747587428.62\n",
      "  model = cd_fast.enet_coordinate_descent(\n",
      "C:\\Users\\arkarmak\\Anaconda3\\lib\\site-packages\\sklearn\\linear_model\\_coordinate_descent.py:530: ConvergenceWarning: Objective did not converge. You might want to increase the number of iterations. Duality gap: 3.4004235470018536e+16, tolerance: 243312772771428.62\n",
      "  model = cd_fast.enet_coordinate_descent(\n",
      "C:\\Users\\arkarmak\\Anaconda3\\lib\\site-packages\\sklearn\\linear_model\\_coordinate_descent.py:530: ConvergenceWarning: Objective did not converge. You might want to increase the number of iterations. Duality gap: 3.630574992503573e+16, tolerance: 242647559571428.53\n",
      "  model = cd_fast.enet_coordinate_descent(\n",
      "C:\\Users\\arkarmak\\Anaconda3\\lib\\site-packages\\sklearn\\linear_model\\_coordinate_descent.py:530: ConvergenceWarning: Objective did not converge. You might want to increase the number of iterations. Duality gap: 3.616880617668035e+16, tolerance: 243814605145428.62\n",
      "  model = cd_fast.enet_coordinate_descent(\n",
      "C:\\Users\\arkarmak\\Anaconda3\\lib\\site-packages\\sklearn\\linear_model\\_coordinate_descent.py:530: ConvergenceWarning: Objective did not converge. You might want to increase the number of iterations. Duality gap: 3.1166257411951436e+16, tolerance: 216504884635428.53\n",
      "  model = cd_fast.enet_coordinate_descent(\n",
      "C:\\Users\\arkarmak\\Anaconda3\\lib\\site-packages\\sklearn\\linear_model\\_coordinate_descent.py:530: ConvergenceWarning: Objective did not converge. You might want to increase the number of iterations. Duality gap: 2.607999556725009e+16, tolerance: 183940103238857.2\n",
      "  model = cd_fast.enet_coordinate_descent(\n",
      "C:\\Users\\arkarmak\\Anaconda3\\lib\\site-packages\\sklearn\\linear_model\\_coordinate_descent.py:530: ConvergenceWarning: Objective did not converge. You might want to increase the number of iterations. Duality gap: 6815807963653148.0, tolerance: 2009249435717142.8\n",
      "  model = cd_fast.enet_coordinate_descent(\n",
      "C:\\Users\\arkarmak\\Anaconda3\\lib\\site-packages\\sklearn\\linear_model\\_coordinate_descent.py:530: ConvergenceWarning: Objective did not converge. You might want to increase the number of iterations. Duality gap: 9957529296756088.0, tolerance: 2381305558860000.0\n",
      "  model = cd_fast.enet_coordinate_descent(\n",
      "C:\\Users\\arkarmak\\Anaconda3\\lib\\site-packages\\sklearn\\linear_model\\_coordinate_descent.py:530: ConvergenceWarning: Objective did not converge. You might want to increase the number of iterations. Duality gap: 6799733555860064.0, tolerance: 1929034363854286.0\n",
      "  model = cd_fast.enet_coordinate_descent(\n",
      "C:\\Users\\arkarmak\\Anaconda3\\lib\\site-packages\\sklearn\\linear_model\\_coordinate_descent.py:530: ConvergenceWarning: Objective did not converge. You might want to increase the number of iterations. Duality gap: 1.0892212064369528e+16, tolerance: 2399837475874286.0\n",
      "  model = cd_fast.enet_coordinate_descent(\n",
      "C:\\Users\\arkarmak\\Anaconda3\\lib\\site-packages\\sklearn\\linear_model\\_coordinate_descent.py:530: ConvergenceWarning: Objective did not converge. You might want to increase the number of iterations. Duality gap: 8121077454158496.0, tolerance: 2433127727714286.0\n",
      "  model = cd_fast.enet_coordinate_descent(\n",
      "C:\\Users\\arkarmak\\Anaconda3\\lib\\site-packages\\sklearn\\linear_model\\_coordinate_descent.py:530: ConvergenceWarning: Objective did not converge. You might want to increase the number of iterations. Duality gap: 7648125180237328.0, tolerance: 2426475595714285.0\n",
      "  model = cd_fast.enet_coordinate_descent(\n",
      "C:\\Users\\arkarmak\\Anaconda3\\lib\\site-packages\\sklearn\\linear_model\\_coordinate_descent.py:530: ConvergenceWarning: Objective did not converge. You might want to increase the number of iterations. Duality gap: 4544556809423208.0, tolerance: 2438146051454286.0\n",
      "  model = cd_fast.enet_coordinate_descent(\n",
      "C:\\Users\\arkarmak\\Anaconda3\\lib\\site-packages\\sklearn\\linear_model\\_coordinate_descent.py:530: ConvergenceWarning: Objective did not converge. You might want to increase the number of iterations. Duality gap: 7098819741298392.0, tolerance: 2412936002174285.5\n",
      "  model = cd_fast.enet_coordinate_descent(\n",
      "C:\\Users\\arkarmak\\Anaconda3\\lib\\site-packages\\sklearn\\linear_model\\_coordinate_descent.py:530: ConvergenceWarning: Objective did not converge. You might want to increase the number of iterations. Duality gap: 5987412460365472.0, tolerance: 2165048846354285.2\n",
      "  model = cd_fast.enet_coordinate_descent(\n",
      "C:\\Users\\arkarmak\\Anaconda3\\lib\\site-packages\\sklearn\\linear_model\\_coordinate_descent.py:530: ConvergenceWarning: Objective did not converge. You might want to increase the number of iterations. Duality gap: 4647579101785476.0, tolerance: 1839401032388572.0\n",
      "  model = cd_fast.enet_coordinate_descent(\n",
      "C:\\Users\\arkarmak\\Anaconda3\\lib\\site-packages\\sklearn\\linear_model\\_coordinate_descent.py:530: ConvergenceWarning: Objective did not converge. You might want to increase the number of iterations. Duality gap: 6815807963653148.0, tolerance: 200924943571714.28\n",
      "  model = cd_fast.enet_coordinate_descent(\n",
      "C:\\Users\\arkarmak\\Anaconda3\\lib\\site-packages\\sklearn\\linear_model\\_coordinate_descent.py:530: ConvergenceWarning: Objective did not converge. You might want to increase the number of iterations. Duality gap: 9957529296756088.0, tolerance: 238130555886000.0\n",
      "  model = cd_fast.enet_coordinate_descent(\n",
      "C:\\Users\\arkarmak\\Anaconda3\\lib\\site-packages\\sklearn\\linear_model\\_coordinate_descent.py:530: ConvergenceWarning: Objective did not converge. You might want to increase the number of iterations. Duality gap: 6799733555860064.0, tolerance: 192903436385428.62\n",
      "  model = cd_fast.enet_coordinate_descent(\n",
      "C:\\Users\\arkarmak\\Anaconda3\\lib\\site-packages\\sklearn\\linear_model\\_coordinate_descent.py:530: ConvergenceWarning: Objective did not converge. You might want to increase the number of iterations. Duality gap: 1.0892212064369528e+16, tolerance: 239983747587428.62\n",
      "  model = cd_fast.enet_coordinate_descent(\n",
      "C:\\Users\\arkarmak\\Anaconda3\\lib\\site-packages\\sklearn\\linear_model\\_coordinate_descent.py:530: ConvergenceWarning: Objective did not converge. You might want to increase the number of iterations. Duality gap: 8121077454158496.0, tolerance: 243312772771428.62\n",
      "  model = cd_fast.enet_coordinate_descent(\n",
      "C:\\Users\\arkarmak\\Anaconda3\\lib\\site-packages\\sklearn\\linear_model\\_coordinate_descent.py:530: ConvergenceWarning: Objective did not converge. You might want to increase the number of iterations. Duality gap: 7648125180237328.0, tolerance: 242647559571428.53\n",
      "  model = cd_fast.enet_coordinate_descent(\n",
      "C:\\Users\\arkarmak\\Anaconda3\\lib\\site-packages\\sklearn\\linear_model\\_coordinate_descent.py:530: ConvergenceWarning: Objective did not converge. You might want to increase the number of iterations. Duality gap: 4544556809423208.0, tolerance: 243814605145428.62\n",
      "  model = cd_fast.enet_coordinate_descent(\n",
      "C:\\Users\\arkarmak\\Anaconda3\\lib\\site-packages\\sklearn\\linear_model\\_coordinate_descent.py:530: ConvergenceWarning: Objective did not converge. You might want to increase the number of iterations. Duality gap: 7098819741298392.0, tolerance: 241293600217428.56\n",
      "  model = cd_fast.enet_coordinate_descent(\n",
      "C:\\Users\\arkarmak\\Anaconda3\\lib\\site-packages\\sklearn\\linear_model\\_coordinate_descent.py:530: ConvergenceWarning: Objective did not converge. You might want to increase the number of iterations. Duality gap: 5987412460365472.0, tolerance: 216504884635428.53\n",
      "  model = cd_fast.enet_coordinate_descent(\n",
      "C:\\Users\\arkarmak\\Anaconda3\\lib\\site-packages\\sklearn\\linear_model\\_coordinate_descent.py:530: ConvergenceWarning: Objective did not converge. You might want to increase the number of iterations. Duality gap: 4647579101785476.0, tolerance: 183940103238857.2\n",
      "  model = cd_fast.enet_coordinate_descent(\n",
      "C:\\Users\\arkarmak\\Anaconda3\\lib\\site-packages\\sklearn\\linear_model\\_coordinate_descent.py:530: ConvergenceWarning: Objective did not converge. You might want to increase the number of iterations. Duality gap: 3.5559977382379476e+16, tolerance: 2381305558860000.0\n",
      "  model = cd_fast.enet_coordinate_descent(\n",
      "C:\\Users\\arkarmak\\Anaconda3\\lib\\site-packages\\sklearn\\linear_model\\_coordinate_descent.py:530: ConvergenceWarning: Objective did not converge. You might want to increase the number of iterations. Duality gap: 2.6591074697669416e+16, tolerance: 1929034363854286.0\n",
      "  model = cd_fast.enet_coordinate_descent(\n",
      "C:\\Users\\arkarmak\\Anaconda3\\lib\\site-packages\\sklearn\\linear_model\\_coordinate_descent.py:530: ConvergenceWarning: Objective did not converge. You might want to increase the number of iterations. Duality gap: 3.691977449638763e+16, tolerance: 2399837475874286.0\n",
      "  model = cd_fast.enet_coordinate_descent(\n",
      "C:\\Users\\arkarmak\\Anaconda3\\lib\\site-packages\\sklearn\\linear_model\\_coordinate_descent.py:530: ConvergenceWarning: Objective did not converge. You might want to increase the number of iterations. Duality gap: 3.3998072694764604e+16, tolerance: 2433127727714286.0\n",
      "  model = cd_fast.enet_coordinate_descent(\n",
      "C:\\Users\\arkarmak\\Anaconda3\\lib\\site-packages\\sklearn\\linear_model\\_coordinate_descent.py:530: ConvergenceWarning: Objective did not converge. You might want to increase the number of iterations. Duality gap: 3.640319077036328e+16, tolerance: 2426475595714285.0\n",
      "  model = cd_fast.enet_coordinate_descent(\n",
      "C:\\Users\\arkarmak\\Anaconda3\\lib\\site-packages\\sklearn\\linear_model\\_coordinate_descent.py:530: ConvergenceWarning: Objective did not converge. You might want to increase the number of iterations. Duality gap: 3.49749963390159e+16, tolerance: 2412936002174285.5\n",
      "  model = cd_fast.enet_coordinate_descent(\n",
      "C:\\Users\\arkarmak\\Anaconda3\\lib\\site-packages\\sklearn\\linear_model\\_coordinate_descent.py:530: ConvergenceWarning: Objective did not converge. You might want to increase the number of iterations. Duality gap: 3.3039189146352668e+16, tolerance: 2165048846354285.2\n",
      "  model = cd_fast.enet_coordinate_descent(\n",
      "C:\\Users\\arkarmak\\Anaconda3\\lib\\site-packages\\sklearn\\linear_model\\_coordinate_descent.py:530: ConvergenceWarning: Objective did not converge. You might want to increase the number of iterations. Duality gap: 2.605235605867191e+16, tolerance: 1839401032388572.0\n",
      "  model = cd_fast.enet_coordinate_descent(\n",
      "C:\\Users\\arkarmak\\Anaconda3\\lib\\site-packages\\sklearn\\linear_model\\_coordinate_descent.py:530: ConvergenceWarning: Objective did not converge. You might want to increase the number of iterations. Duality gap: 2.7824191834287264e+16, tolerance: 200924943571714.28\n",
      "  model = cd_fast.enet_coordinate_descent(\n",
      "C:\\Users\\arkarmak\\Anaconda3\\lib\\site-packages\\sklearn\\linear_model\\_coordinate_descent.py:530: ConvergenceWarning: Objective did not converge. You might want to increase the number of iterations. Duality gap: 3.5546746052527348e+16, tolerance: 238130555886000.0\n",
      "  model = cd_fast.enet_coordinate_descent(\n",
      "C:\\Users\\arkarmak\\Anaconda3\\lib\\site-packages\\sklearn\\linear_model\\_coordinate_descent.py:530: ConvergenceWarning: Objective did not converge. You might want to increase the number of iterations. Duality gap: 2.6625350761710384e+16, tolerance: 192903436385428.62\n",
      "  model = cd_fast.enet_coordinate_descent(\n",
      "C:\\Users\\arkarmak\\Anaconda3\\lib\\site-packages\\sklearn\\linear_model\\_coordinate_descent.py:530: ConvergenceWarning: Objective did not converge. You might want to increase the number of iterations. Duality gap: 3.691705710714598e+16, tolerance: 239983747587428.62\n",
      "  model = cd_fast.enet_coordinate_descent(\n",
      "C:\\Users\\arkarmak\\Anaconda3\\lib\\site-packages\\sklearn\\linear_model\\_coordinate_descent.py:530: ConvergenceWarning: Objective did not converge. You might want to increase the number of iterations. Duality gap: 3.2916523291784176e+16, tolerance: 243312772771428.62\n",
      "  model = cd_fast.enet_coordinate_descent(\n",
      "C:\\Users\\arkarmak\\Anaconda3\\lib\\site-packages\\sklearn\\linear_model\\_coordinate_descent.py:530: ConvergenceWarning: Objective did not converge. You might want to increase the number of iterations. Duality gap: 3.633453670062152e+16, tolerance: 242647559571428.53\n",
      "  model = cd_fast.enet_coordinate_descent(\n",
      "C:\\Users\\arkarmak\\Anaconda3\\lib\\site-packages\\sklearn\\linear_model\\_coordinate_descent.py:530: ConvergenceWarning: Objective did not converge. You might want to increase the number of iterations. Duality gap: 2.0590012343972604e+16, tolerance: 243814605145428.62\n",
      "  model = cd_fast.enet_coordinate_descent(\n",
      "C:\\Users\\arkarmak\\Anaconda3\\lib\\site-packages\\sklearn\\linear_model\\_coordinate_descent.py:530: ConvergenceWarning: Objective did not converge. You might want to increase the number of iterations. Duality gap: 3.4967089035074796e+16, tolerance: 241293600217428.56\n",
      "  model = cd_fast.enet_coordinate_descent(\n",
      "C:\\Users\\arkarmak\\Anaconda3\\lib\\site-packages\\sklearn\\linear_model\\_coordinate_descent.py:530: ConvergenceWarning: Objective did not converge. You might want to increase the number of iterations. Duality gap: 3.2982497565449972e+16, tolerance: 216504884635428.53\n",
      "  model = cd_fast.enet_coordinate_descent(\n",
      "C:\\Users\\arkarmak\\Anaconda3\\lib\\site-packages\\sklearn\\linear_model\\_coordinate_descent.py:530: ConvergenceWarning: Objective did not converge. You might want to increase the number of iterations. Duality gap: 2.5969375867449652e+16, tolerance: 183940103238857.2\n",
      "  model = cd_fast.enet_coordinate_descent(\n",
      "C:\\Users\\arkarmak\\Anaconda3\\lib\\site-packages\\sklearn\\linear_model\\_coordinate_descent.py:530: ConvergenceWarning: Objective did not converge. You might want to increase the number of iterations. Duality gap: 5616266207289216.0, tolerance: 2009249435717142.8\n",
      "  model = cd_fast.enet_coordinate_descent(\n",
      "C:\\Users\\arkarmak\\Anaconda3\\lib\\site-packages\\sklearn\\linear_model\\_coordinate_descent.py:530: ConvergenceWarning: Objective did not converge. You might want to increase the number of iterations. Duality gap: 9958171085403408.0, tolerance: 2381305558860000.0\n",
      "  model = cd_fast.enet_coordinate_descent(\n",
      "C:\\Users\\arkarmak\\Anaconda3\\lib\\site-packages\\sklearn\\linear_model\\_coordinate_descent.py:530: ConvergenceWarning: Objective did not converge. You might want to increase the number of iterations. Duality gap: 5629872734948852.0, tolerance: 1929034363854286.0\n",
      "  model = cd_fast.enet_coordinate_descent(\n",
      "C:\\Users\\arkarmak\\Anaconda3\\lib\\site-packages\\sklearn\\linear_model\\_coordinate_descent.py:530: ConvergenceWarning: Objective did not converge. You might want to increase the number of iterations. Duality gap: 8769142431325984.0, tolerance: 2399837475874286.0\n",
      "  model = cd_fast.enet_coordinate_descent(\n",
      "C:\\Users\\arkarmak\\Anaconda3\\lib\\site-packages\\sklearn\\linear_model\\_coordinate_descent.py:530: ConvergenceWarning: Objective did not converge. You might want to increase the number of iterations. Duality gap: 8121739476326284.0, tolerance: 2433127727714286.0\n",
      "  model = cd_fast.enet_coordinate_descent(\n",
      "C:\\Users\\arkarmak\\Anaconda3\\lib\\site-packages\\sklearn\\linear_model\\_coordinate_descent.py:530: ConvergenceWarning: Objective did not converge. You might want to increase the number of iterations. Duality gap: 6226552488830216.0, tolerance: 2426475595714285.0\n",
      "  model = cd_fast.enet_coordinate_descent(\n",
      "C:\\Users\\arkarmak\\Anaconda3\\lib\\site-packages\\sklearn\\linear_model\\_coordinate_descent.py:530: ConvergenceWarning: Objective did not converge. You might want to increase the number of iterations. Duality gap: 7099360020817712.0, tolerance: 2412936002174285.5\n",
      "  model = cd_fast.enet_coordinate_descent(\n",
      "C:\\Users\\arkarmak\\Anaconda3\\lib\\site-packages\\sklearn\\linear_model\\_coordinate_descent.py:530: ConvergenceWarning: Objective did not converge. You might want to increase the number of iterations. Duality gap: 5987930612131224.0, tolerance: 2165048846354285.2\n",
      "  model = cd_fast.enet_coordinate_descent(\n",
      "C:\\Users\\arkarmak\\Anaconda3\\lib\\site-packages\\sklearn\\linear_model\\_coordinate_descent.py:530: ConvergenceWarning: Objective did not converge. You might want to increase the number of iterations. Duality gap: 1866557565501792.0, tolerance: 1839401032388572.0\n",
      "  model = cd_fast.enet_coordinate_descent(\n",
      "C:\\Users\\arkarmak\\Anaconda3\\lib\\site-packages\\sklearn\\linear_model\\_coordinate_descent.py:530: ConvergenceWarning: Objective did not converge. You might want to increase the number of iterations. Duality gap: 5616266207289216.0, tolerance: 200924943571714.28\n",
      "  model = cd_fast.enet_coordinate_descent(\n",
      "C:\\Users\\arkarmak\\Anaconda3\\lib\\site-packages\\sklearn\\linear_model\\_coordinate_descent.py:530: ConvergenceWarning: Objective did not converge. You might want to increase the number of iterations. Duality gap: 9958171085403408.0, tolerance: 238130555886000.0\n",
      "  model = cd_fast.enet_coordinate_descent(\n",
      "C:\\Users\\arkarmak\\Anaconda3\\lib\\site-packages\\sklearn\\linear_model\\_coordinate_descent.py:530: ConvergenceWarning: Objective did not converge. You might want to increase the number of iterations. Duality gap: 5629872734948852.0, tolerance: 192903436385428.62\n",
      "  model = cd_fast.enet_coordinate_descent(\n",
      "C:\\Users\\arkarmak\\Anaconda3\\lib\\site-packages\\sklearn\\linear_model\\_coordinate_descent.py:530: ConvergenceWarning: Objective did not converge. You might want to increase the number of iterations. Duality gap: 8769142431325984.0, tolerance: 239983747587428.62\n",
      "  model = cd_fast.enet_coordinate_descent(\n",
      "C:\\Users\\arkarmak\\Anaconda3\\lib\\site-packages\\sklearn\\linear_model\\_coordinate_descent.py:530: ConvergenceWarning: Objective did not converge. You might want to increase the number of iterations. Duality gap: 8121739476326284.0, tolerance: 243312772771428.62\n",
      "  model = cd_fast.enet_coordinate_descent(\n",
      "C:\\Users\\arkarmak\\Anaconda3\\lib\\site-packages\\sklearn\\linear_model\\_coordinate_descent.py:530: ConvergenceWarning: Objective did not converge. You might want to increase the number of iterations. Duality gap: 6226552488830216.0, tolerance: 242647559571428.53\n",
      "  model = cd_fast.enet_coordinate_descent(\n",
      "C:\\Users\\arkarmak\\Anaconda3\\lib\\site-packages\\sklearn\\linear_model\\_coordinate_descent.py:530: ConvergenceWarning: Objective did not converge. You might want to increase the number of iterations. Duality gap: 865197433792912.0, tolerance: 243814605145428.62\n",
      "  model = cd_fast.enet_coordinate_descent(\n",
      "C:\\Users\\arkarmak\\Anaconda3\\lib\\site-packages\\sklearn\\linear_model\\_coordinate_descent.py:530: ConvergenceWarning: Objective did not converge. You might want to increase the number of iterations. Duality gap: 7099360020817712.0, tolerance: 241293600217428.56\n",
      "  model = cd_fast.enet_coordinate_descent(\n",
      "C:\\Users\\arkarmak\\Anaconda3\\lib\\site-packages\\sklearn\\linear_model\\_coordinate_descent.py:530: ConvergenceWarning: Objective did not converge. You might want to increase the number of iterations. Duality gap: 5987930612131224.0, tolerance: 216504884635428.53\n",
      "  model = cd_fast.enet_coordinate_descent(\n",
      "C:\\Users\\arkarmak\\Anaconda3\\lib\\site-packages\\sklearn\\linear_model\\_coordinate_descent.py:530: ConvergenceWarning: Objective did not converge. You might want to increase the number of iterations. Duality gap: 1866557565501792.0, tolerance: 183940103238857.2\n",
      "  model = cd_fast.enet_coordinate_descent(\n",
      "C:\\Users\\arkarmak\\Anaconda3\\lib\\site-packages\\sklearn\\linear_model\\_coordinate_descent.py:530: ConvergenceWarning: Objective did not converge. You might want to increase the number of iterations. Duality gap: 2.808648333463837e+16, tolerance: 2009249435717142.8\n",
      "  model = cd_fast.enet_coordinate_descent(\n",
      "C:\\Users\\arkarmak\\Anaconda3\\lib\\site-packages\\sklearn\\linear_model\\_coordinate_descent.py:530: ConvergenceWarning: Objective did not converge. You might want to increase the number of iterations. Duality gap: 3.5578219573322132e+16, tolerance: 2381305558860000.0\n",
      "  model = cd_fast.enet_coordinate_descent(\n",
      "C:\\Users\\arkarmak\\Anaconda3\\lib\\site-packages\\sklearn\\linear_model\\_coordinate_descent.py:530: ConvergenceWarning: Objective did not converge. You might want to increase the number of iterations. Duality gap: 3.6912355792434104e+16, tolerance: 2399837475874286.0\n",
      "  model = cd_fast.enet_coordinate_descent(\n",
      "C:\\Users\\arkarmak\\Anaconda3\\lib\\site-packages\\sklearn\\linear_model\\_coordinate_descent.py:530: ConvergenceWarning: Objective did not converge. You might want to increase the number of iterations. Duality gap: 3.636389342919663e+16, tolerance: 2426475595714285.0\n",
      "  model = cd_fast.enet_coordinate_descent(\n",
      "C:\\Users\\arkarmak\\Anaconda3\\lib\\site-packages\\sklearn\\linear_model\\_coordinate_descent.py:530: ConvergenceWarning: Objective did not converge. You might want to increase the number of iterations. Duality gap: 3.4903206238950344e+16, tolerance: 2412936002174285.5\n",
      "  model = cd_fast.enet_coordinate_descent(\n",
      "C:\\Users\\arkarmak\\Anaconda3\\lib\\site-packages\\sklearn\\linear_model\\_coordinate_descent.py:530: ConvergenceWarning: Objective did not converge. You might want to increase the number of iterations. Duality gap: 3.304589945389623e+16, tolerance: 2165048846354285.2\n",
      "  model = cd_fast.enet_coordinate_descent(\n",
      "C:\\Users\\arkarmak\\Anaconda3\\lib\\site-packages\\sklearn\\linear_model\\_coordinate_descent.py:530: ConvergenceWarning: Objective did not converge. You might want to increase the number of iterations. Duality gap: 2.601784465703448e+16, tolerance: 1839401032388572.0\n",
      "  model = cd_fast.enet_coordinate_descent(\n",
      "C:\\Users\\arkarmak\\Anaconda3\\lib\\site-packages\\sklearn\\linear_model\\_coordinate_descent.py:530: ConvergenceWarning: Objective did not converge. You might want to increase the number of iterations. Duality gap: 2.817645664619538e+16, tolerance: 200924943571714.28\n",
      "  model = cd_fast.enet_coordinate_descent(\n",
      "C:\\Users\\arkarmak\\Anaconda3\\lib\\site-packages\\sklearn\\linear_model\\_coordinate_descent.py:530: ConvergenceWarning: Objective did not converge. You might want to increase the number of iterations. Duality gap: 3.5562802696179624e+16, tolerance: 238130555886000.0\n",
      "  model = cd_fast.enet_coordinate_descent(\n",
      "C:\\Users\\arkarmak\\Anaconda3\\lib\\site-packages\\sklearn\\linear_model\\_coordinate_descent.py:530: ConvergenceWarning: Objective did not converge. You might want to increase the number of iterations. Duality gap: 2.6273479805850668e+16, tolerance: 192903436385428.62\n",
      "  model = cd_fast.enet_coordinate_descent(\n",
      "C:\\Users\\arkarmak\\Anaconda3\\lib\\site-packages\\sklearn\\linear_model\\_coordinate_descent.py:530: ConvergenceWarning: Objective did not converge. You might want to increase the number of iterations. Duality gap: 3.69259497378232e+16, tolerance: 239983747587428.62\n",
      "  model = cd_fast.enet_coordinate_descent(\n",
      "C:\\Users\\arkarmak\\Anaconda3\\lib\\site-packages\\sklearn\\linear_model\\_coordinate_descent.py:530: ConvergenceWarning: Objective did not converge. You might want to increase the number of iterations. Duality gap: 3.3842470002796812e+16, tolerance: 243312772771428.62\n",
      "  model = cd_fast.enet_coordinate_descent(\n",
      "C:\\Users\\arkarmak\\Anaconda3\\lib\\site-packages\\sklearn\\linear_model\\_coordinate_descent.py:530: ConvergenceWarning: Objective did not converge. You might want to increase the number of iterations. Duality gap: 3.638876930868432e+16, tolerance: 242647559571428.53\n",
      "  model = cd_fast.enet_coordinate_descent(\n",
      "C:\\Users\\arkarmak\\Anaconda3\\lib\\site-packages\\sklearn\\linear_model\\_coordinate_descent.py:530: ConvergenceWarning: Objective did not converge. You might want to increase the number of iterations. Duality gap: 3.6229204680211416e+16, tolerance: 243814605145428.62\n",
      "  model = cd_fast.enet_coordinate_descent(\n",
      "C:\\Users\\arkarmak\\Anaconda3\\lib\\site-packages\\sklearn\\linear_model\\_coordinate_descent.py:530: ConvergenceWarning: Objective did not converge. You might want to increase the number of iterations. Duality gap: 3.458003194361226e+16, tolerance: 241293600217428.56\n",
      "  model = cd_fast.enet_coordinate_descent(\n",
      "C:\\Users\\arkarmak\\Anaconda3\\lib\\site-packages\\sklearn\\linear_model\\_coordinate_descent.py:530: ConvergenceWarning: Objective did not converge. You might want to increase the number of iterations. Duality gap: 3.3061785510448824e+16, tolerance: 216504884635428.53\n",
      "  model = cd_fast.enet_coordinate_descent(\n",
      "C:\\Users\\arkarmak\\Anaconda3\\lib\\site-packages\\sklearn\\linear_model\\_coordinate_descent.py:530: ConvergenceWarning: Objective did not converge. You might want to increase the number of iterations. Duality gap: 2.607913378653901e+16, tolerance: 183940103238857.2\n",
      "  model = cd_fast.enet_coordinate_descent(\n",
      "C:\\Users\\arkarmak\\Anaconda3\\lib\\site-packages\\sklearn\\linear_model\\_coordinate_descent.py:530: ConvergenceWarning: Objective did not converge. You might want to increase the number of iterations. Duality gap: 4651873676936920.0, tolerance: 2009249435717142.8\n",
      "  model = cd_fast.enet_coordinate_descent(\n",
      "C:\\Users\\arkarmak\\Anaconda3\\lib\\site-packages\\sklearn\\linear_model\\_coordinate_descent.py:530: ConvergenceWarning: Objective did not converge. You might want to increase the number of iterations. Duality gap: 9959971106015388.0, tolerance: 2381305558860000.0\n",
      "  model = cd_fast.enet_coordinate_descent(\n",
      "C:\\Users\\arkarmak\\Anaconda3\\lib\\site-packages\\sklearn\\linear_model\\_coordinate_descent.py:530: ConvergenceWarning: Objective did not converge. You might want to increase the number of iterations. Duality gap: 2277955665537928.0, tolerance: 1929034363854286.0\n",
      "  model = cd_fast.enet_coordinate_descent(\n",
      "C:\\Users\\arkarmak\\Anaconda3\\lib\\site-packages\\sklearn\\linear_model\\_coordinate_descent.py:530: ConvergenceWarning: Objective did not converge. You might want to increase the number of iterations. Duality gap: 6891281168380440.0, tolerance: 2399837475874286.0\n",
      "  model = cd_fast.enet_coordinate_descent(\n",
      "C:\\Users\\arkarmak\\Anaconda3\\lib\\site-packages\\sklearn\\linear_model\\_coordinate_descent.py:530: ConvergenceWarning: Objective did not converge. You might want to increase the number of iterations. Duality gap: 3556598778633792.0, tolerance: 2433127727714286.0\n",
      "  model = cd_fast.enet_coordinate_descent(\n",
      "C:\\Users\\arkarmak\\Anaconda3\\lib\\site-packages\\sklearn\\linear_model\\_coordinate_descent.py:530: ConvergenceWarning: Objective did not converge. You might want to increase the number of iterations. Duality gap: 6604443898411680.0, tolerance: 2426475595714285.0\n",
      "  model = cd_fast.enet_coordinate_descent(\n",
      "C:\\Users\\arkarmak\\Anaconda3\\lib\\site-packages\\sklearn\\linear_model\\_coordinate_descent.py:530: ConvergenceWarning: Objective did not converge. You might want to increase the number of iterations. Duality gap: 1.8621263786441504e+16, tolerance: 2412936002174285.5\n",
      "  model = cd_fast.enet_coordinate_descent(\n",
      "C:\\Users\\arkarmak\\Anaconda3\\lib\\site-packages\\sklearn\\linear_model\\_coordinate_descent.py:530: ConvergenceWarning: Objective did not converge. You might want to increase the number of iterations. Duality gap: 2875719317458608.0, tolerance: 2165048846354285.2\n",
      "  model = cd_fast.enet_coordinate_descent(\n",
      "C:\\Users\\arkarmak\\Anaconda3\\lib\\site-packages\\sklearn\\linear_model\\_coordinate_descent.py:530: ConvergenceWarning: Objective did not converge. You might want to increase the number of iterations. Duality gap: 4651873676936920.0, tolerance: 200924943571714.28\n",
      "  model = cd_fast.enet_coordinate_descent(\n",
      "C:\\Users\\arkarmak\\Anaconda3\\lib\\site-packages\\sklearn\\linear_model\\_coordinate_descent.py:530: ConvergenceWarning: Objective did not converge. You might want to increase the number of iterations. Duality gap: 9959971106015388.0, tolerance: 238130555886000.0\n",
      "  model = cd_fast.enet_coordinate_descent(\n",
      "C:\\Users\\arkarmak\\Anaconda3\\lib\\site-packages\\sklearn\\linear_model\\_coordinate_descent.py:530: ConvergenceWarning: Objective did not converge. You might want to increase the number of iterations. Duality gap: 2277955665537928.0, tolerance: 192903436385428.62\n",
      "  model = cd_fast.enet_coordinate_descent(\n",
      "C:\\Users\\arkarmak\\Anaconda3\\lib\\site-packages\\sklearn\\linear_model\\_coordinate_descent.py:530: ConvergenceWarning: Objective did not converge. You might want to increase the number of iterations. Duality gap: 6891281168380440.0, tolerance: 239983747587428.62\n",
      "  model = cd_fast.enet_coordinate_descent(\n",
      "C:\\Users\\arkarmak\\Anaconda3\\lib\\site-packages\\sklearn\\linear_model\\_coordinate_descent.py:530: ConvergenceWarning: Objective did not converge. You might want to increase the number of iterations. Duality gap: 3556598778633792.0, tolerance: 243312772771428.62\n",
      "  model = cd_fast.enet_coordinate_descent(\n",
      "C:\\Users\\arkarmak\\Anaconda3\\lib\\site-packages\\sklearn\\linear_model\\_coordinate_descent.py:530: ConvergenceWarning: Objective did not converge. You might want to increase the number of iterations. Duality gap: 6604443898411680.0, tolerance: 242647559571428.53\n",
      "  model = cd_fast.enet_coordinate_descent(\n",
      "C:\\Users\\arkarmak\\Anaconda3\\lib\\site-packages\\sklearn\\linear_model\\_coordinate_descent.py:530: ConvergenceWarning: Objective did not converge. You might want to increase the number of iterations. Duality gap: 865763077246312.0, tolerance: 243814605145428.62\n",
      "  model = cd_fast.enet_coordinate_descent(\n",
      "C:\\Users\\arkarmak\\Anaconda3\\lib\\site-packages\\sklearn\\linear_model\\_coordinate_descent.py:530: ConvergenceWarning: Objective did not converge. You might want to increase the number of iterations. Duality gap: 1.8621263786441504e+16, tolerance: 241293600217428.56\n",
      "  model = cd_fast.enet_coordinate_descent(\n",
      "C:\\Users\\arkarmak\\Anaconda3\\lib\\site-packages\\sklearn\\linear_model\\_coordinate_descent.py:530: ConvergenceWarning: Objective did not converge. You might want to increase the number of iterations. Duality gap: 2875719317458608.0, tolerance: 216504884635428.53\n",
      "  model = cd_fast.enet_coordinate_descent(\n",
      "C:\\Users\\arkarmak\\Anaconda3\\lib\\site-packages\\sklearn\\linear_model\\_coordinate_descent.py:530: ConvergenceWarning: Objective did not converge. You might want to increase the number of iterations. Duality gap: 622416088667520.0, tolerance: 183940103238857.2\n",
      "  model = cd_fast.enet_coordinate_descent(\n",
      "C:\\Users\\arkarmak\\Anaconda3\\lib\\site-packages\\sklearn\\linear_model\\_coordinate_descent.py:530: ConvergenceWarning: Objective did not converge. You might want to increase the number of iterations. Duality gap: 5549886023516432.0, tolerance: 276198089166438.44\n",
      "  model = cd_fast.enet_coordinate_descent(\n"
     ]
    },
    {
     "data": {
      "text/html": [
       "<div>\n",
       "<style scoped>\n",
       "    .dataframe tbody tr th:only-of-type {\n",
       "        vertical-align: middle;\n",
       "    }\n",
       "\n",
       "    .dataframe tbody tr th {\n",
       "        vertical-align: top;\n",
       "    }\n",
       "\n",
       "    .dataframe thead th {\n",
       "        text-align: right;\n",
       "    }\n",
       "</style>\n",
       "<table border=\"1\" class=\"dataframe\">\n",
       "  <thead>\n",
       "    <tr style=\"text-align: right;\">\n",
       "      <th></th>\n",
       "      <th>model</th>\n",
       "      <th>best_score</th>\n",
       "      <th>best_params</th>\n",
       "    </tr>\n",
       "  </thead>\n",
       "  <tbody>\n",
       "    <tr>\n",
       "      <th>0</th>\n",
       "      <td>linear_regression</td>\n",
       "      <td>0.617039</td>\n",
       "      <td>{'normalize': False}</td>\n",
       "    </tr>\n",
       "    <tr>\n",
       "      <th>1</th>\n",
       "      <td>lasso</td>\n",
       "      <td>0.617072</td>\n",
       "      <td>{'alpha': 50, 'selection': 'cyclic', 'tol': 0.001}</td>\n",
       "    </tr>\n",
       "    <tr>\n",
       "      <th>2</th>\n",
       "      <td>ridge</td>\n",
       "      <td>0.632830</td>\n",
       "      <td>{'alpha': 10, 'tol': 0.1}</td>\n",
       "    </tr>\n",
       "    <tr>\n",
       "      <th>3</th>\n",
       "      <td>decision_tree</td>\n",
       "      <td>0.729393</td>\n",
       "      <td>{'criterion': 'friedman_mse', 'splitter': 'random'}</td>\n",
       "    </tr>\n",
       "  </tbody>\n",
       "</table>\n",
       "</div>"
      ],
      "text/plain": [
       "               model  best_score  \\\n",
       "0  linear_regression  0.617039     \n",
       "1  lasso              0.617072     \n",
       "2  ridge              0.632830     \n",
       "3  decision_tree      0.729393     \n",
       "\n",
       "                                           best_params  \n",
       "0  {'normalize': False}                                 \n",
       "1  {'alpha': 50, 'selection': 'cyclic', 'tol': 0.001}   \n",
       "2  {'alpha': 10, 'tol': 0.1}                            \n",
       "3  {'criterion': 'friedman_mse', 'splitter': 'random'}  "
      ]
     },
     "execution_count": 308,
     "metadata": {},
     "output_type": "execute_result"
    }
   ],
   "source": [
    "from sklearn.model_selection import GridSearchCV\n",
    "\n",
    "from sklearn.linear_model import Lasso\n",
    "\n",
    "from sklearn.linear_model import Ridge\n",
    "\n",
    "from sklearn.tree import DecisionTreeRegressor\n",
    "\n",
    "def find_best_model_using_gridsearchcv(X,y):\n",
    "    algos = {\n",
    "        'linear_regression' : {\n",
    "            'model': LinearRegression(),\n",
    "            'params': {\n",
    "                'normalize': [True, False]\n",
    "            }\n",
    "        },\n",
    "        'lasso': {\n",
    "            'model': Lasso(),\n",
    "            'params': {\n",
    "                'alpha': [10,20,50],\n",
    "                'selection': ['random', 'cyclic'],\n",
    "                'tol': [0.1, .01, .001]\n",
    "            }\n",
    "        },\n",
    "        'ridge': {\n",
    "            'model': Ridge(),\n",
    "            'params': {\n",
    "                'alpha': [10,20,50],\n",
    "                'tol': [0.1, .01, .001]\n",
    "            }\n",
    "        },\n",
    "        'decision_tree': {\n",
    "            'model': DecisionTreeRegressor(),\n",
    "            'params': {\n",
    "                'criterion' : ['mse','friedman_mse'],\n",
    "                'splitter': ['best','random']\n",
    "            }\n",
    "        }\n",
    "    }\n",
    "    scores = []\n",
    "    cv = ShuffleSplit(n_splits=10, test_size=0.2, random_state=7)\n",
    "    for algo_name, config in algos.items():\n",
    "        gs =  GridSearchCV(config['model'], config['params'], cv=cv, return_train_score=False)\n",
    "        gs.fit(X,y)\n",
    "        scores.append({\n",
    "            'model': algo_name,\n",
    "            'best_score': gs.best_score_,\n",
    "            'best_params': gs.best_params_\n",
    "        })\n",
    "\n",
    "    return pd.DataFrame(scores,columns=['model','best_score','best_params'])\n",
    "\n",
    "find_best_model_using_gridsearchcv(X,y)"
   ]
  },
  {
   "cell_type": "code",
   "execution_count": 309,
   "id": "88b482f4",
   "metadata": {},
   "outputs": [],
   "source": [
    "from sklearn.model_selection import train_test_split\n",
    "X_train, X_test, y_train, y_test = train_test_split(X,y,test_size=0.2,random_state=7)"
   ]
  },
  {
   "cell_type": "code",
   "execution_count": 315,
   "id": "04255686",
   "metadata": {},
   "outputs": [
    {
     "data": {
      "text/plain": [
       "0.8619567415873939"
      ]
     },
     "execution_count": 315,
     "metadata": {},
     "output_type": "execute_result"
    }
   ],
   "source": [
    "dc_clf = DecisionTreeRegressor(criterion = 'friedman_mse', splitter = 'random')\n",
    "dc_clf.fit(X_train,y_train)\n",
    "dc_clf.score(X_test,y_test)"
   ]
  },
  {
   "cell_type": "code",
   "execution_count": 319,
   "id": "f6845c47",
   "metadata": {
    "scrolled": true
   },
   "outputs": [
    {
     "data": {
      "text/html": [
       "<div>\n",
       "<style scoped>\n",
       "    .dataframe tbody tr th:only-of-type {\n",
       "        vertical-align: middle;\n",
       "    }\n",
       "\n",
       "    .dataframe tbody tr th {\n",
       "        vertical-align: top;\n",
       "    }\n",
       "\n",
       "    .dataframe thead th {\n",
       "        text-align: right;\n",
       "    }\n",
       "</style>\n",
       "<table border=\"1\" class=\"dataframe\">\n",
       "  <thead>\n",
       "    <tr style=\"text-align: right;\">\n",
       "      <th></th>\n",
       "      <th>Area</th>\n",
       "      <th>BHK</th>\n",
       "      <th>Bathroom</th>\n",
       "      <th>Furnishing</th>\n",
       "      <th>Parking</th>\n",
       "      <th>Status</th>\n",
       "      <th>Transaction</th>\n",
       "      <th>Type</th>\n",
       "      <th>Alaknanda</th>\n",
       "      <th>Batla House, Okhla</th>\n",
       "      <th>...</th>\n",
       "      <th>Sheikh Sarai Phase 1</th>\n",
       "      <th>Sheikh Sarai Phase 2</th>\n",
       "      <th>Sukhdev Vihar, Okhla</th>\n",
       "      <th>Sultanpur</th>\n",
       "      <th>Sultanpur Extension</th>\n",
       "      <th>Uttam Nagar</th>\n",
       "      <th>Uttam Nagar West</th>\n",
       "      <th>Vasant Kunj</th>\n",
       "      <th>Vasant Kunj Sector C</th>\n",
       "      <th>Vasundhara Enclave</th>\n",
       "    </tr>\n",
       "  </thead>\n",
       "  <tbody>\n",
       "    <tr>\n",
       "      <th>0</th>\n",
       "      <td>1400.0</td>\n",
       "      <td>3</td>\n",
       "      <td>2.0</td>\n",
       "      <td>3</td>\n",
       "      <td>1.0</td>\n",
       "      <td>1</td>\n",
       "      <td>2</td>\n",
       "      <td>2</td>\n",
       "      <td>1</td>\n",
       "      <td>0</td>\n",
       "      <td>...</td>\n",
       "      <td>0</td>\n",
       "      <td>0</td>\n",
       "      <td>0</td>\n",
       "      <td>0</td>\n",
       "      <td>0</td>\n",
       "      <td>0</td>\n",
       "      <td>0</td>\n",
       "      <td>0</td>\n",
       "      <td>0</td>\n",
       "      <td>0</td>\n",
       "    </tr>\n",
       "    <tr>\n",
       "      <th>1</th>\n",
       "      <td>1100.0</td>\n",
       "      <td>2</td>\n",
       "      <td>2.0</td>\n",
       "      <td>3</td>\n",
       "      <td>2.0</td>\n",
       "      <td>1</td>\n",
       "      <td>2</td>\n",
       "      <td>2</td>\n",
       "      <td>1</td>\n",
       "      <td>0</td>\n",
       "      <td>...</td>\n",
       "      <td>0</td>\n",
       "      <td>0</td>\n",
       "      <td>0</td>\n",
       "      <td>0</td>\n",
       "      <td>0</td>\n",
       "      <td>0</td>\n",
       "      <td>0</td>\n",
       "      <td>0</td>\n",
       "      <td>0</td>\n",
       "      <td>0</td>\n",
       "    </tr>\n",
       "    <tr>\n",
       "      <th>2</th>\n",
       "      <td>1200.0</td>\n",
       "      <td>2</td>\n",
       "      <td>2.0</td>\n",
       "      <td>1</td>\n",
       "      <td>2.0</td>\n",
       "      <td>1</td>\n",
       "      <td>2</td>\n",
       "      <td>2</td>\n",
       "      <td>1</td>\n",
       "      <td>0</td>\n",
       "      <td>...</td>\n",
       "      <td>0</td>\n",
       "      <td>0</td>\n",
       "      <td>0</td>\n",
       "      <td>0</td>\n",
       "      <td>0</td>\n",
       "      <td>0</td>\n",
       "      <td>0</td>\n",
       "      <td>0</td>\n",
       "      <td>0</td>\n",
       "      <td>0</td>\n",
       "    </tr>\n",
       "    <tr>\n",
       "      <th>3</th>\n",
       "      <td>1400.0</td>\n",
       "      <td>2</td>\n",
       "      <td>2.0</td>\n",
       "      <td>1</td>\n",
       "      <td>2.0</td>\n",
       "      <td>1</td>\n",
       "      <td>2</td>\n",
       "      <td>2</td>\n",
       "      <td>1</td>\n",
       "      <td>0</td>\n",
       "      <td>...</td>\n",
       "      <td>0</td>\n",
       "      <td>0</td>\n",
       "      <td>0</td>\n",
       "      <td>0</td>\n",
       "      <td>0</td>\n",
       "      <td>0</td>\n",
       "      <td>0</td>\n",
       "      <td>0</td>\n",
       "      <td>0</td>\n",
       "      <td>0</td>\n",
       "    </tr>\n",
       "    <tr>\n",
       "      <th>4</th>\n",
       "      <td>1320.0</td>\n",
       "      <td>3</td>\n",
       "      <td>2.0</td>\n",
       "      <td>3</td>\n",
       "      <td>2.0</td>\n",
       "      <td>1</td>\n",
       "      <td>2</td>\n",
       "      <td>2</td>\n",
       "      <td>1</td>\n",
       "      <td>0</td>\n",
       "      <td>...</td>\n",
       "      <td>0</td>\n",
       "      <td>0</td>\n",
       "      <td>0</td>\n",
       "      <td>0</td>\n",
       "      <td>0</td>\n",
       "      <td>0</td>\n",
       "      <td>0</td>\n",
       "      <td>0</td>\n",
       "      <td>0</td>\n",
       "      <td>0</td>\n",
       "    </tr>\n",
       "  </tbody>\n",
       "</table>\n",
       "<p>5 rows × 54 columns</p>\n",
       "</div>"
      ],
      "text/plain": [
       "     Area  BHK  Bathroom  Furnishing  Parking  Status  Transaction  Type  \\\n",
       "0  1400.0  3    2.0       3           1.0      1       2            2      \n",
       "1  1100.0  2    2.0       3           2.0      1       2            2      \n",
       "2  1200.0  2    2.0       1           2.0      1       2            2      \n",
       "3  1400.0  2    2.0       1           2.0      1       2            2      \n",
       "4  1320.0  3    2.0       3           2.0      1       2            2      \n",
       "\n",
       "   Alaknanda  Batla House, Okhla  ...  Sheikh Sarai Phase 1  \\\n",
       "0  1          0                   ...  0                      \n",
       "1  1          0                   ...  0                      \n",
       "2  1          0                   ...  0                      \n",
       "3  1          0                   ...  0                      \n",
       "4  1          0                   ...  0                      \n",
       "\n",
       "   Sheikh Sarai Phase 2  Sukhdev Vihar, Okhla  Sultanpur  Sultanpur Extension  \\\n",
       "0  0                     0                     0          0                     \n",
       "1  0                     0                     0          0                     \n",
       "2  0                     0                     0          0                     \n",
       "3  0                     0                     0          0                     \n",
       "4  0                     0                     0          0                     \n",
       "\n",
       "   Uttam Nagar  Uttam Nagar West  Vasant Kunj  Vasant Kunj Sector C  \\\n",
       "0  0            0                 0            0                      \n",
       "1  0            0                 0            0                      \n",
       "2  0            0                 0            0                      \n",
       "3  0            0                 0            0                      \n",
       "4  0            0                 0            0                      \n",
       "\n",
       "   Vasundhara Enclave  \n",
       "0  0                   \n",
       "1  0                   \n",
       "2  0                   \n",
       "3  0                   \n",
       "4  0                   \n",
       "\n",
       "[5 rows x 54 columns]"
      ]
     },
     "execution_count": 319,
     "metadata": {},
     "output_type": "execute_result"
    }
   ],
   "source": [
    "X.head()"
   ]
  },
  {
   "cell_type": "code",
   "execution_count": 322,
   "id": "f30e4713",
   "metadata": {},
   "outputs": [],
   "source": [
    "def predict_price(locality,area,bhk,bathroom,furnishing,parking,status,transaction,type):    \n",
    "    loc_index = np.where(X.columns==locality)[0][0]\n",
    "\n",
    "    x = np.zeros(len(X.columns))\n",
    "    x[0] = area\n",
    "    x[1] = bhk\n",
    "    x[2] = bathroom\n",
    "    x[3] = furnishing\n",
    "    x[4] = parking\n",
    "    x[5] = status\n",
    "    x[6] = transaction\n",
    "    x[7] = type\n",
    "    if loc_index >= 0:\n",
    "        x[loc_index] = 1\n",
    "\n",
    "    return dc_clf.predict([x])[0]"
   ]
  },
  {
   "cell_type": "code",
   "execution_count": 323,
   "id": "e48fd21d",
   "metadata": {},
   "outputs": [
    {
     "data": {
      "text/plain": [
       "22500000.0"
      ]
     },
     "execution_count": 323,
     "metadata": {},
     "output_type": "execute_result"
    }
   ],
   "source": [
    "predict_price('Lajpat Nagar 2',1000, 2, 3, 2, 2, 2, 1, 2)"
   ]
  },
  {
   "cell_type": "code",
   "execution_count": 324,
   "id": "3aab9a7b",
   "metadata": {},
   "outputs": [
    {
     "data": {
      "text/plain": [
       "19000000.0"
      ]
     },
     "execution_count": 324,
     "metadata": {},
     "output_type": "execute_result"
    }
   ],
   "source": [
    "predict_price('Alaknanda',1400, 3, 2, 3, 1, 1, 2, 2)"
   ]
  },
  {
   "cell_type": "markdown",
   "id": "ea442078",
   "metadata": {},
   "source": [
    "# Export the mode into a pickle file"
   ]
  },
  {
   "cell_type": "code",
   "execution_count": 326,
   "id": "d12b8ae0",
   "metadata": {},
   "outputs": [],
   "source": [
    "import pickle\n",
    "with open('delhi_home_prices_model.pickle','wb') as f:\n",
    "    pickle.dump(dc_clf,f)"
   ]
  },
  {
   "cell_type": "code",
   "execution_count": null,
   "id": "609b9c9e",
   "metadata": {},
   "outputs": [],
   "source": [
    "Export location and column information to a json file that will be useful later on in our prediction application"
   ]
  },
  {
   "cell_type": "code",
   "execution_count": 327,
   "id": "e26cf09c",
   "metadata": {},
   "outputs": [],
   "source": [
    "import json\n",
    "columns = {\n",
    "    'data_columns' : [col.lower() for col in X.columns]\n",
    "}\n",
    "with open(\"columns.json\",\"w\") as f:\n",
    "    f.write(json.dumps(columns))"
   ]
  },
  {
   "cell_type": "code",
   "execution_count": null,
   "id": "c79151e8",
   "metadata": {},
   "outputs": [],
   "source": []
  }
 ],
 "metadata": {
  "kernelspec": {
   "display_name": "Python 3 (ipykernel)",
   "language": "python",
   "name": "python3"
  },
  "language_info": {
   "codemirror_mode": {
    "name": "ipython",
    "version": 3
   },
   "file_extension": ".py",
   "mimetype": "text/x-python",
   "name": "python",
   "nbconvert_exporter": "python",
   "pygments_lexer": "ipython3",
   "version": "3.8.8"
  }
 },
 "nbformat": 4,
 "nbformat_minor": 5
}
